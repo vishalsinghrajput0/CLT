{
  "nbformat": 4,
  "nbformat_minor": 0,
  "metadata": {
    "colab": {
      "name": "Vish_alz (3).ipynb",
      "provenance": [],
      "include_colab_link": true
    },
    "kernelspec": {
      "display_name": "Python 3",
      "language": "python",
      "name": "python3"
    },
    "language_info": {
      "codemirror_mode": {
        "name": "ipython",
        "version": 3
      },
      "file_extension": ".py",
      "mimetype": "text/x-python",
      "name": "python",
      "nbconvert_exporter": "python",
      "pygments_lexer": "ipython3",
      "version": "3.8.5"
    }
  },
  "cells": [
    {
      "cell_type": "markdown",
      "metadata": {
        "id": "view-in-github",
        "colab_type": "text"
      },
      "source": [
        "<a href=\"https://colab.research.google.com/github/vishalsinghrajput0/CLT/blob/main/Vish_alz_(3).ipynb\" target=\"_parent\"><img src=\"https://colab.research.google.com/assets/colab-badge.svg\" alt=\"Open In Colab\"/></a>"
      ]
    },
    {
      "cell_type": "code",
      "metadata": {
        "id": "Nt3A_s3skuQZ"
      },
      "source": [
        "import pandas as pd\n",
        "import numpy as np\n",
        "import seaborn as sns\n",
        "import matplotlib.pyplot as plt\n",
        "\n",
        "import os"
      ],
      "execution_count": 24,
      "outputs": []
    },
    {
      "cell_type": "code",
      "metadata": {
        "id": "ZD2vqGLykuQg"
      },
      "source": [
        "df=pd.read_csv('Vishal_alz_detect.csv')"
      ],
      "execution_count": 25,
      "outputs": []
    },
    {
      "cell_type": "code",
      "metadata": {
        "colab": {
          "base_uri": "https://localhost:8080/"
        },
        "id": "Ve4pcVtjkuQi",
        "outputId": "e3ea6feb-ea48-43e1-f22a-9797f2935b84"
      },
      "source": [
        "df.shape"
      ],
      "execution_count": 26,
      "outputs": [
        {
          "output_type": "execute_result",
          "data": {
            "text/plain": [
              "(823, 289)"
            ]
          },
          "metadata": {
            "tags": []
          },
          "execution_count": 26
        }
      ]
    },
    {
      "cell_type": "code",
      "metadata": {
        "id": "j8VKVszwkuQl"
      },
      "source": [
        "#Clean the column name by removing speacial character/space/symbols\n",
        "df.columns = df.columns.str.replace(r\"[^a-zA-Z\\d\\_]+\", \"_\")   "
      ],
      "execution_count": 27,
      "outputs": []
    },
    {
      "cell_type": "code",
      "metadata": {
        "id": "7r9UrIDlkuQm"
      },
      "source": [
        "#Removing missing rows and duplicated rows\n",
        "df=df.dropna().drop_duplicates().reset_index(drop=True)"
      ],
      "execution_count": 28,
      "outputs": []
    },
    {
      "cell_type": "code",
      "metadata": {
        "colab": {
          "base_uri": "https://localhost:8080/",
          "height": 252
        },
        "id": "j17Shtj1kuQn",
        "outputId": "9caafe9a-40a5-4a40-a4fc-7f14e7531390"
      },
      "source": [
        "df.head()"
      ],
      "execution_count": 29,
      "outputs": [
        {
          "output_type": "execute_result",
          "data": {
            "text/html": [
              "<div>\n",
              "<style scoped>\n",
              "    .dataframe tbody tr th:only-of-type {\n",
              "        vertical-align: middle;\n",
              "    }\n",
              "\n",
              "    .dataframe tbody tr th {\n",
              "        vertical-align: top;\n",
              "    }\n",
              "\n",
              "    .dataframe thead th {\n",
              "        text-align: right;\n",
              "    }\n",
              "</style>\n",
              "<table border=\"1\" class=\"dataframe\">\n",
              "  <thead>\n",
              "    <tr style=\"text-align: right;\">\n",
              "      <th></th>\n",
              "      <th>Image_Data_ID</th>\n",
              "      <th>Subject</th>\n",
              "      <th>Group</th>\n",
              "      <th>Sex</th>\n",
              "      <th>Age</th>\n",
              "      <th>GM_l3thVen_</th>\n",
              "      <th>GM_r3thVen_</th>\n",
              "      <th>GM_l4thVen_</th>\n",
              "      <th>GM_r4thVen_</th>\n",
              "      <th>GM_lAcc_</th>\n",
              "      <th>GM_rAcc_</th>\n",
              "      <th>GM_lAmy_</th>\n",
              "      <th>GM_rAmy_</th>\n",
              "      <th>GM_lBst_</th>\n",
              "      <th>GM_rBst_</th>\n",
              "      <th>GM_lCau_</th>\n",
              "      <th>GM_rCau_</th>\n",
              "      <th>GM_lExtCbe_</th>\n",
              "      <th>GM_rExtCbe_</th>\n",
              "      <th>GM_lCbeWM_</th>\n",
              "      <th>GM_rCbeWM_</th>\n",
              "      <th>GM_lCbrWM_</th>\n",
              "      <th>GM_rCbrWM_</th>\n",
              "      <th>GM_lCSF_</th>\n",
              "      <th>GM_rCSF_</th>\n",
              "      <th>GM_lHip_</th>\n",
              "      <th>GM_rHip_</th>\n",
              "      <th>GM_lInfLatVen_</th>\n",
              "      <th>GM_rInfLatVen_</th>\n",
              "      <th>GM_lLatVen_</th>\n",
              "      <th>GM_rLatVen_</th>\n",
              "      <th>GM_lPal_</th>\n",
              "      <th>GM_rPal_</th>\n",
              "      <th>GM_lPut_</th>\n",
              "      <th>GM_rPut_</th>\n",
              "      <th>GM_lThaPro_</th>\n",
              "      <th>GM_rThaPro_</th>\n",
              "      <th>GM_lVenVen_</th>\n",
              "      <th>GM_rVenVen_</th>\n",
              "      <th>GM_lOC_</th>\n",
              "      <th>...</th>\n",
              "      <th>CSF_lPosCinGy_</th>\n",
              "      <th>CSF_rPosCinGy_</th>\n",
              "      <th>CSF_lPCu_</th>\n",
              "      <th>CSF_rPCu_</th>\n",
              "      <th>CSF_lParHipGy_</th>\n",
              "      <th>CSF_rParHipGy_</th>\n",
              "      <th>CSF_lPosIns_</th>\n",
              "      <th>CSF_rPosIns_</th>\n",
              "      <th>CSF_lParOpe_</th>\n",
              "      <th>CSF_rParOpe_</th>\n",
              "      <th>CSF_lPoCGy_</th>\n",
              "      <th>CSF_rPoCGy_</th>\n",
              "      <th>CSF_lPosOrbGy_</th>\n",
              "      <th>CSF_rPosOrbGy_</th>\n",
              "      <th>CSF_lPla_</th>\n",
              "      <th>CSF_rPla_</th>\n",
              "      <th>CSF_lPrcGy_</th>\n",
              "      <th>CSF_rPrcGy_</th>\n",
              "      <th>CSF_lTem_</th>\n",
              "      <th>CSF_rTem_</th>\n",
              "      <th>CSF_lSCA_</th>\n",
              "      <th>CSF_rSCA_</th>\n",
              "      <th>CSF_lSupFroGy_</th>\n",
              "      <th>CSF_rSupFroGy_</th>\n",
              "      <th>CSF_lCbr_Mot_</th>\n",
              "      <th>CSF_rCbr_Mot_</th>\n",
              "      <th>CSF_lSupMarGy_</th>\n",
              "      <th>CSF_rSupMarGy_</th>\n",
              "      <th>CSF_lSupOccGy_</th>\n",
              "      <th>CSF_rSupOccGy_</th>\n",
              "      <th>CSF_lSupParLo_</th>\n",
              "      <th>CSF_rSupParLo_</th>\n",
              "      <th>CSF_lSupTemGy_</th>\n",
              "      <th>CSF_rSupTemGy_</th>\n",
              "      <th>CSF_lTemPo_</th>\n",
              "      <th>CSF_rTemPo_</th>\n",
              "      <th>CSF_lInfFroAngGy_</th>\n",
              "      <th>CSF_rInfFroAngGy_</th>\n",
              "      <th>CSF_lTemTraGy_</th>\n",
              "      <th>CSF_rTemTraGy_</th>\n",
              "    </tr>\n",
              "  </thead>\n",
              "  <tbody>\n",
              "    <tr>\n",
              "      <th>0</th>\n",
              "      <td>I143116</td>\n",
              "      <td>023_S_1247</td>\n",
              "      <td>MCI</td>\n",
              "      <td>F</td>\n",
              "      <td>75</td>\n",
              "      <td>0.022773</td>\n",
              "      <td>0.019522</td>\n",
              "      <td>0.055176</td>\n",
              "      <td>0.066769</td>\n",
              "      <td>0.337376</td>\n",
              "      <td>0.324663</td>\n",
              "      <td>0.662145</td>\n",
              "      <td>0.614965</td>\n",
              "      <td>0.396318</td>\n",
              "      <td>0.465200</td>\n",
              "      <td>2.499663</td>\n",
              "      <td>2.569882</td>\n",
              "      <td>30.767005</td>\n",
              "      <td>31.889809</td>\n",
              "      <td>1.167769</td>\n",
              "      <td>0.866282</td>\n",
              "      <td>5.437043</td>\n",
              "      <td>5.251083</td>\n",
              "      <td>0.262710</td>\n",
              "      <td>0.293647</td>\n",
              "      <td>2.157008</td>\n",
              "      <td>2.375808</td>\n",
              "      <td>0.0</td>\n",
              "      <td>0.004925</td>\n",
              "      <td>0.614506</td>\n",
              "      <td>0.503604</td>\n",
              "      <td>0.342980</td>\n",
              "      <td>0.330420</td>\n",
              "      <td>3.141094</td>\n",
              "      <td>2.943071</td>\n",
              "      <td>3.873584</td>\n",
              "      <td>3.989330</td>\n",
              "      <td>0.634702</td>\n",
              "      <td>0.576714</td>\n",
              "      <td>0.0</td>\n",
              "      <td>...</td>\n",
              "      <td>1.682071</td>\n",
              "      <td>1.382918</td>\n",
              "      <td>5.222326</td>\n",
              "      <td>5.213879</td>\n",
              "      <td>1.197886</td>\n",
              "      <td>1.508926</td>\n",
              "      <td>0.562063</td>\n",
              "      <td>0.501137</td>\n",
              "      <td>0.604326</td>\n",
              "      <td>0.464149</td>\n",
              "      <td>7.812067</td>\n",
              "      <td>7.061106</td>\n",
              "      <td>1.105400</td>\n",
              "      <td>1.091596</td>\n",
              "      <td>1.073204</td>\n",
              "      <td>1.146412</td>\n",
              "      <td>6.365616</td>\n",
              "      <td>6.614549</td>\n",
              "      <td>1.231400</td>\n",
              "      <td>1.080094</td>\n",
              "      <td>0.937078</td>\n",
              "      <td>0.743314</td>\n",
              "      <td>7.407349</td>\n",
              "      <td>8.041761</td>\n",
              "      <td>3.406859</td>\n",
              "      <td>3.445804</td>\n",
              "      <td>4.310871</td>\n",
              "      <td>3.911447</td>\n",
              "      <td>1.220918</td>\n",
              "      <td>2.356173</td>\n",
              "      <td>6.625918</td>\n",
              "      <td>7.280926</td>\n",
              "      <td>2.310020</td>\n",
              "      <td>2.690639</td>\n",
              "      <td>3.972286</td>\n",
              "      <td>3.819392</td>\n",
              "      <td>1.842612</td>\n",
              "      <td>1.310753</td>\n",
              "      <td>0.512376</td>\n",
              "      <td>0.392439</td>\n",
              "    </tr>\n",
              "    <tr>\n",
              "      <th>1</th>\n",
              "      <td>I139891</td>\n",
              "      <td>018_S_0425</td>\n",
              "      <td>CN</td>\n",
              "      <td>M</td>\n",
              "      <td>86</td>\n",
              "      <td>0.045902</td>\n",
              "      <td>0.030341</td>\n",
              "      <td>0.063624</td>\n",
              "      <td>0.068984</td>\n",
              "      <td>0.269318</td>\n",
              "      <td>0.202263</td>\n",
              "      <td>0.713902</td>\n",
              "      <td>0.649149</td>\n",
              "      <td>0.369553</td>\n",
              "      <td>0.576710</td>\n",
              "      <td>2.414384</td>\n",
              "      <td>1.359620</td>\n",
              "      <td>33.906648</td>\n",
              "      <td>35.701460</td>\n",
              "      <td>1.232420</td>\n",
              "      <td>1.108863</td>\n",
              "      <td>9.731247</td>\n",
              "      <td>12.082604</td>\n",
              "      <td>0.362008</td>\n",
              "      <td>0.369369</td>\n",
              "      <td>2.214090</td>\n",
              "      <td>2.373439</td>\n",
              "      <td>0.0</td>\n",
              "      <td>0.006031</td>\n",
              "      <td>1.135655</td>\n",
              "      <td>0.988314</td>\n",
              "      <td>0.632863</td>\n",
              "      <td>0.577518</td>\n",
              "      <td>3.070486</td>\n",
              "      <td>2.599078</td>\n",
              "      <td>3.694212</td>\n",
              "      <td>2.779553</td>\n",
              "      <td>0.675933</td>\n",
              "      <td>0.581192</td>\n",
              "      <td>0.0</td>\n",
              "      <td>...</td>\n",
              "      <td>2.154286</td>\n",
              "      <td>1.952937</td>\n",
              "      <td>7.869686</td>\n",
              "      <td>7.299541</td>\n",
              "      <td>2.043231</td>\n",
              "      <td>2.428322</td>\n",
              "      <td>1.233075</td>\n",
              "      <td>1.206200</td>\n",
              "      <td>1.041043</td>\n",
              "      <td>0.755980</td>\n",
              "      <td>9.795600</td>\n",
              "      <td>8.877918</td>\n",
              "      <td>2.088937</td>\n",
              "      <td>2.069961</td>\n",
              "      <td>2.202263</td>\n",
              "      <td>2.434169</td>\n",
              "      <td>8.738702</td>\n",
              "      <td>8.050490</td>\n",
              "      <td>2.115792</td>\n",
              "      <td>1.899243</td>\n",
              "      <td>1.716894</td>\n",
              "      <td>1.329663</td>\n",
              "      <td>11.479259</td>\n",
              "      <td>11.497938</td>\n",
              "      <td>4.664675</td>\n",
              "      <td>4.615004</td>\n",
              "      <td>5.884094</td>\n",
              "      <td>4.547192</td>\n",
              "      <td>2.054510</td>\n",
              "      <td>2.904016</td>\n",
              "      <td>7.789388</td>\n",
              "      <td>9.336385</td>\n",
              "      <td>3.853769</td>\n",
              "      <td>4.169545</td>\n",
              "      <td>6.592381</td>\n",
              "      <td>6.677235</td>\n",
              "      <td>2.433522</td>\n",
              "      <td>2.253878</td>\n",
              "      <td>1.003753</td>\n",
              "      <td>1.070576</td>\n",
              "    </tr>\n",
              "    <tr>\n",
              "      <th>2</th>\n",
              "      <td>I142001</td>\n",
              "      <td>031_S_1209</td>\n",
              "      <td>AD</td>\n",
              "      <td>F</td>\n",
              "      <td>74</td>\n",
              "      <td>0.058192</td>\n",
              "      <td>0.034558</td>\n",
              "      <td>0.092187</td>\n",
              "      <td>0.116815</td>\n",
              "      <td>0.412282</td>\n",
              "      <td>0.373165</td>\n",
              "      <td>0.638645</td>\n",
              "      <td>0.505210</td>\n",
              "      <td>0.617245</td>\n",
              "      <td>0.868873</td>\n",
              "      <td>3.387160</td>\n",
              "      <td>3.461460</td>\n",
              "      <td>50.446712</td>\n",
              "      <td>51.583549</td>\n",
              "      <td>1.827977</td>\n",
              "      <td>1.330713</td>\n",
              "      <td>6.958884</td>\n",
              "      <td>5.966415</td>\n",
              "      <td>0.376972</td>\n",
              "      <td>0.366242</td>\n",
              "      <td>2.053001</td>\n",
              "      <td>2.283012</td>\n",
              "      <td>0.0</td>\n",
              "      <td>0.003838</td>\n",
              "      <td>0.664933</td>\n",
              "      <td>0.565046</td>\n",
              "      <td>0.169640</td>\n",
              "      <td>0.176457</td>\n",
              "      <td>3.764052</td>\n",
              "      <td>3.367483</td>\n",
              "      <td>4.498651</td>\n",
              "      <td>4.809604</td>\n",
              "      <td>0.712620</td>\n",
              "      <td>0.667456</td>\n",
              "      <td>0.0</td>\n",
              "      <td>...</td>\n",
              "      <td>1.511225</td>\n",
              "      <td>1.492911</td>\n",
              "      <td>5.587300</td>\n",
              "      <td>5.056052</td>\n",
              "      <td>1.945949</td>\n",
              "      <td>2.412621</td>\n",
              "      <td>1.003199</td>\n",
              "      <td>1.221969</td>\n",
              "      <td>1.051739</td>\n",
              "      <td>0.876201</td>\n",
              "      <td>10.276691</td>\n",
              "      <td>9.464065</td>\n",
              "      <td>2.133306</td>\n",
              "      <td>2.160386</td>\n",
              "      <td>1.838160</td>\n",
              "      <td>2.323539</td>\n",
              "      <td>8.861681</td>\n",
              "      <td>8.452837</td>\n",
              "      <td>1.872041</td>\n",
              "      <td>2.278279</td>\n",
              "      <td>1.414226</td>\n",
              "      <td>1.182884</td>\n",
              "      <td>12.737542</td>\n",
              "      <td>14.368977</td>\n",
              "      <td>3.288730</td>\n",
              "      <td>3.273842</td>\n",
              "      <td>6.364925</td>\n",
              "      <td>5.987965</td>\n",
              "      <td>2.290351</td>\n",
              "      <td>2.573250</td>\n",
              "      <td>8.029738</td>\n",
              "      <td>7.806615</td>\n",
              "      <td>3.719113</td>\n",
              "      <td>4.939732</td>\n",
              "      <td>7.488350</td>\n",
              "      <td>7.652853</td>\n",
              "      <td>2.895219</td>\n",
              "      <td>3.323094</td>\n",
              "      <td>0.757750</td>\n",
              "      <td>1.193412</td>\n",
              "    </tr>\n",
              "    <tr>\n",
              "      <th>3</th>\n",
              "      <td>I139325</td>\n",
              "      <td>116_S_1249</td>\n",
              "      <td>CN</td>\n",
              "      <td>F</td>\n",
              "      <td>73</td>\n",
              "      <td>0.045318</td>\n",
              "      <td>0.028431</td>\n",
              "      <td>0.067820</td>\n",
              "      <td>0.068890</td>\n",
              "      <td>0.321000</td>\n",
              "      <td>0.330333</td>\n",
              "      <td>0.697624</td>\n",
              "      <td>0.719753</td>\n",
              "      <td>0.331776</td>\n",
              "      <td>0.368988</td>\n",
              "      <td>2.280482</td>\n",
              "      <td>2.512177</td>\n",
              "      <td>37.790381</td>\n",
              "      <td>38.267715</td>\n",
              "      <td>1.460365</td>\n",
              "      <td>1.033541</td>\n",
              "      <td>6.988216</td>\n",
              "      <td>6.477498</td>\n",
              "      <td>0.268031</td>\n",
              "      <td>0.296831</td>\n",
              "      <td>2.505102</td>\n",
              "      <td>2.814729</td>\n",
              "      <td>0.0</td>\n",
              "      <td>0.005482</td>\n",
              "      <td>0.716447</td>\n",
              "      <td>0.606486</td>\n",
              "      <td>0.118165</td>\n",
              "      <td>0.141522</td>\n",
              "      <td>2.875333</td>\n",
              "      <td>3.036977</td>\n",
              "      <td>4.563537</td>\n",
              "      <td>4.637482</td>\n",
              "      <td>0.725106</td>\n",
              "      <td>0.711863</td>\n",
              "      <td>0.0</td>\n",
              "      <td>...</td>\n",
              "      <td>1.574365</td>\n",
              "      <td>1.295827</td>\n",
              "      <td>4.983726</td>\n",
              "      <td>4.404031</td>\n",
              "      <td>1.958588</td>\n",
              "      <td>2.029149</td>\n",
              "      <td>0.756749</td>\n",
              "      <td>0.610557</td>\n",
              "      <td>0.520608</td>\n",
              "      <td>0.416016</td>\n",
              "      <td>7.642863</td>\n",
              "      <td>7.148883</td>\n",
              "      <td>1.466729</td>\n",
              "      <td>1.252290</td>\n",
              "      <td>1.334039</td>\n",
              "      <td>1.307502</td>\n",
              "      <td>7.233196</td>\n",
              "      <td>7.291859</td>\n",
              "      <td>1.135271</td>\n",
              "      <td>1.019400</td>\n",
              "      <td>1.058733</td>\n",
              "      <td>0.874129</td>\n",
              "      <td>9.296122</td>\n",
              "      <td>9.518373</td>\n",
              "      <td>3.120020</td>\n",
              "      <td>3.115302</td>\n",
              "      <td>4.496635</td>\n",
              "      <td>4.130102</td>\n",
              "      <td>1.382388</td>\n",
              "      <td>2.343459</td>\n",
              "      <td>7.024130</td>\n",
              "      <td>7.202820</td>\n",
              "      <td>2.628647</td>\n",
              "      <td>2.882180</td>\n",
              "      <td>4.879616</td>\n",
              "      <td>4.404251</td>\n",
              "      <td>1.921643</td>\n",
              "      <td>1.874816</td>\n",
              "      <td>0.403016</td>\n",
              "      <td>0.448906</td>\n",
              "    </tr>\n",
              "    <tr>\n",
              "      <th>4</th>\n",
              "      <td>I138792</td>\n",
              "      <td>031_S_0830</td>\n",
              "      <td>MCI</td>\n",
              "      <td>M</td>\n",
              "      <td>71</td>\n",
              "      <td>0.032118</td>\n",
              "      <td>0.024066</td>\n",
              "      <td>0.105091</td>\n",
              "      <td>0.109844</td>\n",
              "      <td>0.317980</td>\n",
              "      <td>0.341134</td>\n",
              "      <td>0.353952</td>\n",
              "      <td>0.371320</td>\n",
              "      <td>0.617546</td>\n",
              "      <td>0.900674</td>\n",
              "      <td>2.487198</td>\n",
              "      <td>2.519661</td>\n",
              "      <td>40.412259</td>\n",
              "      <td>40.541900</td>\n",
              "      <td>1.375264</td>\n",
              "      <td>1.045683</td>\n",
              "      <td>5.092369</td>\n",
              "      <td>5.127968</td>\n",
              "      <td>0.198126</td>\n",
              "      <td>0.253447</td>\n",
              "      <td>2.083852</td>\n",
              "      <td>2.470828</td>\n",
              "      <td>0.0</td>\n",
              "      <td>0.006959</td>\n",
              "      <td>0.693993</td>\n",
              "      <td>0.592157</td>\n",
              "      <td>0.242305</td>\n",
              "      <td>0.137586</td>\n",
              "      <td>3.289408</td>\n",
              "      <td>3.082453</td>\n",
              "      <td>4.286840</td>\n",
              "      <td>4.890476</td>\n",
              "      <td>0.756153</td>\n",
              "      <td>0.697423</td>\n",
              "      <td>0.0</td>\n",
              "      <td>...</td>\n",
              "      <td>1.587134</td>\n",
              "      <td>1.327572</td>\n",
              "      <td>6.331429</td>\n",
              "      <td>5.944828</td>\n",
              "      <td>1.630085</td>\n",
              "      <td>1.910496</td>\n",
              "      <td>0.558277</td>\n",
              "      <td>0.787657</td>\n",
              "      <td>0.792284</td>\n",
              "      <td>0.524649</td>\n",
              "      <td>9.679052</td>\n",
              "      <td>10.304155</td>\n",
              "      <td>1.794330</td>\n",
              "      <td>2.214130</td>\n",
              "      <td>1.125837</td>\n",
              "      <td>1.607005</td>\n",
              "      <td>7.943001</td>\n",
              "      <td>8.952636</td>\n",
              "      <td>1.047235</td>\n",
              "      <td>1.331030</td>\n",
              "      <td>1.459557</td>\n",
              "      <td>1.214238</td>\n",
              "      <td>10.505723</td>\n",
              "      <td>9.955966</td>\n",
              "      <td>4.444028</td>\n",
              "      <td>4.056928</td>\n",
              "      <td>5.007980</td>\n",
              "      <td>4.388688</td>\n",
              "      <td>2.300380</td>\n",
              "      <td>2.961985</td>\n",
              "      <td>7.198555</td>\n",
              "      <td>7.112147</td>\n",
              "      <td>3.000049</td>\n",
              "      <td>3.769316</td>\n",
              "      <td>7.220134</td>\n",
              "      <td>8.005169</td>\n",
              "      <td>2.051575</td>\n",
              "      <td>2.037277</td>\n",
              "      <td>0.427222</td>\n",
              "      <td>0.700999</td>\n",
              "    </tr>\n",
              "  </tbody>\n",
              "</table>\n",
              "<p>5 rows × 289 columns</p>\n",
              "</div>"
            ],
            "text/plain": [
              "  Image_Data_ID     Subject  ... CSF_lTemTraGy_ CSF_rTemTraGy_\n",
              "0       I143116  023_S_1247  ...       0.512376       0.392439\n",
              "1       I139891  018_S_0425  ...       1.003753       1.070576\n",
              "2       I142001  031_S_1209  ...       0.757750       1.193412\n",
              "3       I139325  116_S_1249  ...       0.403016       0.448906\n",
              "4       I138792  031_S_0830  ...       0.427222       0.700999\n",
              "\n",
              "[5 rows x 289 columns]"
            ]
          },
          "metadata": {
            "tags": []
          },
          "execution_count": 29
        }
      ]
    },
    {
      "cell_type": "code",
      "metadata": {
        "colab": {
          "base_uri": "https://localhost:8080/"
        },
        "id": "CF4GANPQkuQo",
        "outputId": "b919c906-dcc6-451d-effc-9e6eb50a564a"
      },
      "source": [
        "df.shape"
      ],
      "execution_count": 30,
      "outputs": [
        {
          "output_type": "execute_result",
          "data": {
            "text/plain": [
              "(289, 289)"
            ]
          },
          "metadata": {
            "tags": []
          },
          "execution_count": 30
        }
      ]
    },
    {
      "cell_type": "code",
      "metadata": {
        "colab": {
          "base_uri": "https://localhost:8080/",
          "height": 344
        },
        "id": "VyWFj8wKkuQp",
        "outputId": "ff3b3ddd-dd13-4efc-9bb7-be59356baba1"
      },
      "source": [
        "df.describe()"
      ],
      "execution_count": 31,
      "outputs": [
        {
          "output_type": "execute_result",
          "data": {
            "text/html": [
              "<div>\n",
              "<style scoped>\n",
              "    .dataframe tbody tr th:only-of-type {\n",
              "        vertical-align: middle;\n",
              "    }\n",
              "\n",
              "    .dataframe tbody tr th {\n",
              "        vertical-align: top;\n",
              "    }\n",
              "\n",
              "    .dataframe thead th {\n",
              "        text-align: right;\n",
              "    }\n",
              "</style>\n",
              "<table border=\"1\" class=\"dataframe\">\n",
              "  <thead>\n",
              "    <tr style=\"text-align: right;\">\n",
              "      <th></th>\n",
              "      <th>Age</th>\n",
              "      <th>GM_l3thVen_</th>\n",
              "      <th>GM_r3thVen_</th>\n",
              "      <th>GM_l4thVen_</th>\n",
              "      <th>GM_r4thVen_</th>\n",
              "      <th>GM_lAcc_</th>\n",
              "      <th>GM_rAcc_</th>\n",
              "      <th>GM_lAmy_</th>\n",
              "      <th>GM_rAmy_</th>\n",
              "      <th>GM_lBst_</th>\n",
              "      <th>GM_rBst_</th>\n",
              "      <th>GM_lCau_</th>\n",
              "      <th>GM_rCau_</th>\n",
              "      <th>GM_lExtCbe_</th>\n",
              "      <th>GM_rExtCbe_</th>\n",
              "      <th>GM_lCbeWM_</th>\n",
              "      <th>GM_rCbeWM_</th>\n",
              "      <th>GM_lCbrWM_</th>\n",
              "      <th>GM_rCbrWM_</th>\n",
              "      <th>GM_lCSF_</th>\n",
              "      <th>GM_rCSF_</th>\n",
              "      <th>GM_lHip_</th>\n",
              "      <th>GM_rHip_</th>\n",
              "      <th>GM_lInfLatVen_</th>\n",
              "      <th>GM_rInfLatVen_</th>\n",
              "      <th>GM_lLatVen_</th>\n",
              "      <th>GM_rLatVen_</th>\n",
              "      <th>GM_lPal_</th>\n",
              "      <th>GM_rPal_</th>\n",
              "      <th>GM_lPut_</th>\n",
              "      <th>GM_rPut_</th>\n",
              "      <th>GM_lThaPro_</th>\n",
              "      <th>GM_rThaPro_</th>\n",
              "      <th>GM_lVenVen_</th>\n",
              "      <th>GM_rVenVen_</th>\n",
              "      <th>GM_lOC_</th>\n",
              "      <th>GM_rOC_</th>\n",
              "      <th>GM_lCbeLoCbe1_5_</th>\n",
              "      <th>GM_rCbeLoCbe1_5_</th>\n",
              "      <th>GM_lCbeLoCbe6_7_</th>\n",
              "      <th>...</th>\n",
              "      <th>CSF_lPosCinGy_</th>\n",
              "      <th>CSF_rPosCinGy_</th>\n",
              "      <th>CSF_lPCu_</th>\n",
              "      <th>CSF_rPCu_</th>\n",
              "      <th>CSF_lParHipGy_</th>\n",
              "      <th>CSF_rParHipGy_</th>\n",
              "      <th>CSF_lPosIns_</th>\n",
              "      <th>CSF_rPosIns_</th>\n",
              "      <th>CSF_lParOpe_</th>\n",
              "      <th>CSF_rParOpe_</th>\n",
              "      <th>CSF_lPoCGy_</th>\n",
              "      <th>CSF_rPoCGy_</th>\n",
              "      <th>CSF_lPosOrbGy_</th>\n",
              "      <th>CSF_rPosOrbGy_</th>\n",
              "      <th>CSF_lPla_</th>\n",
              "      <th>CSF_rPla_</th>\n",
              "      <th>CSF_lPrcGy_</th>\n",
              "      <th>CSF_rPrcGy_</th>\n",
              "      <th>CSF_lTem_</th>\n",
              "      <th>CSF_rTem_</th>\n",
              "      <th>CSF_lSCA_</th>\n",
              "      <th>CSF_rSCA_</th>\n",
              "      <th>CSF_lSupFroGy_</th>\n",
              "      <th>CSF_rSupFroGy_</th>\n",
              "      <th>CSF_lCbr_Mot_</th>\n",
              "      <th>CSF_rCbr_Mot_</th>\n",
              "      <th>CSF_lSupMarGy_</th>\n",
              "      <th>CSF_rSupMarGy_</th>\n",
              "      <th>CSF_lSupOccGy_</th>\n",
              "      <th>CSF_rSupOccGy_</th>\n",
              "      <th>CSF_lSupParLo_</th>\n",
              "      <th>CSF_rSupParLo_</th>\n",
              "      <th>CSF_lSupTemGy_</th>\n",
              "      <th>CSF_rSupTemGy_</th>\n",
              "      <th>CSF_lTemPo_</th>\n",
              "      <th>CSF_rTemPo_</th>\n",
              "      <th>CSF_lInfFroAngGy_</th>\n",
              "      <th>CSF_rInfFroAngGy_</th>\n",
              "      <th>CSF_lTemTraGy_</th>\n",
              "      <th>CSF_rTemTraGy_</th>\n",
              "    </tr>\n",
              "  </thead>\n",
              "  <tbody>\n",
              "    <tr>\n",
              "      <th>count</th>\n",
              "      <td>289.000000</td>\n",
              "      <td>289.000000</td>\n",
              "      <td>289.000000</td>\n",
              "      <td>289.000000</td>\n",
              "      <td>289.000000</td>\n",
              "      <td>289.000000</td>\n",
              "      <td>289.000000</td>\n",
              "      <td>289.000000</td>\n",
              "      <td>289.000000</td>\n",
              "      <td>289.000000</td>\n",
              "      <td>289.000000</td>\n",
              "      <td>289.000000</td>\n",
              "      <td>289.000000</td>\n",
              "      <td>289.000000</td>\n",
              "      <td>289.000000</td>\n",
              "      <td>289.000000</td>\n",
              "      <td>289.000000</td>\n",
              "      <td>289.000000</td>\n",
              "      <td>289.000000</td>\n",
              "      <td>289.000000</td>\n",
              "      <td>289.000000</td>\n",
              "      <td>289.000000</td>\n",
              "      <td>289.000000</td>\n",
              "      <td>289.0</td>\n",
              "      <td>289.000000</td>\n",
              "      <td>289.000000</td>\n",
              "      <td>289.000000</td>\n",
              "      <td>289.000000</td>\n",
              "      <td>289.000000</td>\n",
              "      <td>289.000000</td>\n",
              "      <td>289.000000</td>\n",
              "      <td>289.000000</td>\n",
              "      <td>289.000000</td>\n",
              "      <td>289.000000</td>\n",
              "      <td>289.000000</td>\n",
              "      <td>289.0</td>\n",
              "      <td>289.000000</td>\n",
              "      <td>289.000000</td>\n",
              "      <td>289.000000</td>\n",
              "      <td>289.000000</td>\n",
              "      <td>...</td>\n",
              "      <td>289.000000</td>\n",
              "      <td>289.000000</td>\n",
              "      <td>289.000000</td>\n",
              "      <td>289.000000</td>\n",
              "      <td>289.000000</td>\n",
              "      <td>289.000000</td>\n",
              "      <td>289.000000</td>\n",
              "      <td>289.000000</td>\n",
              "      <td>289.000000</td>\n",
              "      <td>289.000000</td>\n",
              "      <td>289.000000</td>\n",
              "      <td>289.000000</td>\n",
              "      <td>289.000000</td>\n",
              "      <td>289.000000</td>\n",
              "      <td>289.000000</td>\n",
              "      <td>289.000000</td>\n",
              "      <td>289.000000</td>\n",
              "      <td>289.000000</td>\n",
              "      <td>289.000000</td>\n",
              "      <td>289.000000</td>\n",
              "      <td>289.000000</td>\n",
              "      <td>289.000000</td>\n",
              "      <td>289.000000</td>\n",
              "      <td>289.000000</td>\n",
              "      <td>289.000000</td>\n",
              "      <td>289.000000</td>\n",
              "      <td>289.000000</td>\n",
              "      <td>289.000000</td>\n",
              "      <td>289.000000</td>\n",
              "      <td>289.000000</td>\n",
              "      <td>289.000000</td>\n",
              "      <td>289.000000</td>\n",
              "      <td>289.000000</td>\n",
              "      <td>289.000000</td>\n",
              "      <td>289.000000</td>\n",
              "      <td>289.000000</td>\n",
              "      <td>289.000000</td>\n",
              "      <td>289.000000</td>\n",
              "      <td>289.000000</td>\n",
              "      <td>289.000000</td>\n",
              "    </tr>\n",
              "    <tr>\n",
              "      <th>mean</th>\n",
              "      <td>76.273356</td>\n",
              "      <td>0.042531</td>\n",
              "      <td>0.033522</td>\n",
              "      <td>0.066225</td>\n",
              "      <td>0.076509</td>\n",
              "      <td>0.331842</td>\n",
              "      <td>0.333170</td>\n",
              "      <td>0.710713</td>\n",
              "      <td>0.681481</td>\n",
              "      <td>0.587371</td>\n",
              "      <td>0.691708</td>\n",
              "      <td>2.585110</td>\n",
              "      <td>2.705096</td>\n",
              "      <td>38.197581</td>\n",
              "      <td>38.186611</td>\n",
              "      <td>1.418057</td>\n",
              "      <td>1.066239</td>\n",
              "      <td>7.592075</td>\n",
              "      <td>7.154026</td>\n",
              "      <td>0.269153</td>\n",
              "      <td>0.251892</td>\n",
              "      <td>2.347230</td>\n",
              "      <td>2.607428</td>\n",
              "      <td>0.0</td>\n",
              "      <td>0.006176</td>\n",
              "      <td>0.717139</td>\n",
              "      <td>0.556745</td>\n",
              "      <td>0.266042</td>\n",
              "      <td>0.249085</td>\n",
              "      <td>3.278025</td>\n",
              "      <td>3.146333</td>\n",
              "      <td>4.273525</td>\n",
              "      <td>4.311253</td>\n",
              "      <td>0.763926</td>\n",
              "      <td>0.721563</td>\n",
              "      <td>0.0</td>\n",
              "      <td>0.013940</td>\n",
              "      <td>1.897929</td>\n",
              "      <td>1.682122</td>\n",
              "      <td>0.872778</td>\n",
              "      <td>...</td>\n",
              "      <td>1.763620</td>\n",
              "      <td>1.535547</td>\n",
              "      <td>5.610898</td>\n",
              "      <td>5.403668</td>\n",
              "      <td>1.971948</td>\n",
              "      <td>2.232851</td>\n",
              "      <td>0.758943</td>\n",
              "      <td>0.756015</td>\n",
              "      <td>0.636013</td>\n",
              "      <td>0.533313</td>\n",
              "      <td>9.722012</td>\n",
              "      <td>8.903232</td>\n",
              "      <td>1.691571</td>\n",
              "      <td>1.640306</td>\n",
              "      <td>1.432110</td>\n",
              "      <td>1.521524</td>\n",
              "      <td>8.488968</td>\n",
              "      <td>8.132777</td>\n",
              "      <td>1.469265</td>\n",
              "      <td>1.452248</td>\n",
              "      <td>1.252866</td>\n",
              "      <td>1.021558</td>\n",
              "      <td>11.835686</td>\n",
              "      <td>11.323816</td>\n",
              "      <td>3.451240</td>\n",
              "      <td>3.359882</td>\n",
              "      <td>4.900133</td>\n",
              "      <td>4.791080</td>\n",
              "      <td>1.927206</td>\n",
              "      <td>2.594119</td>\n",
              "      <td>7.701331</td>\n",
              "      <td>8.061577</td>\n",
              "      <td>3.058750</td>\n",
              "      <td>3.632938</td>\n",
              "      <td>5.673557</td>\n",
              "      <td>5.693953</td>\n",
              "      <td>2.173147</td>\n",
              "      <td>2.151800</td>\n",
              "      <td>0.561016</td>\n",
              "      <td>0.702669</td>\n",
              "    </tr>\n",
              "    <tr>\n",
              "      <th>std</th>\n",
              "      <td>7.121808</td>\n",
              "      <td>0.017928</td>\n",
              "      <td>0.016750</td>\n",
              "      <td>0.020472</td>\n",
              "      <td>0.020816</td>\n",
              "      <td>0.060658</td>\n",
              "      <td>0.060580</td>\n",
              "      <td>0.158534</td>\n",
              "      <td>0.165030</td>\n",
              "      <td>0.209235</td>\n",
              "      <td>0.292774</td>\n",
              "      <td>0.421200</td>\n",
              "      <td>0.516503</td>\n",
              "      <td>5.061282</td>\n",
              "      <td>5.270651</td>\n",
              "      <td>0.186380</td>\n",
              "      <td>0.137607</td>\n",
              "      <td>2.905372</td>\n",
              "      <td>2.626587</td>\n",
              "      <td>0.095158</td>\n",
              "      <td>0.083028</td>\n",
              "      <td>0.400488</td>\n",
              "      <td>0.465348</td>\n",
              "      <td>0.0</td>\n",
              "      <td>0.002957</td>\n",
              "      <td>0.142973</td>\n",
              "      <td>0.121834</td>\n",
              "      <td>0.132398</td>\n",
              "      <td>0.118558</td>\n",
              "      <td>0.464946</td>\n",
              "      <td>0.525297</td>\n",
              "      <td>0.565131</td>\n",
              "      <td>0.681835</td>\n",
              "      <td>0.115662</td>\n",
              "      <td>0.102677</td>\n",
              "      <td>0.0</td>\n",
              "      <td>0.007408</td>\n",
              "      <td>0.237373</td>\n",
              "      <td>0.221123</td>\n",
              "      <td>0.131205</td>\n",
              "      <td>...</td>\n",
              "      <td>0.412829</td>\n",
              "      <td>0.386361</td>\n",
              "      <td>1.360616</td>\n",
              "      <td>1.212625</td>\n",
              "      <td>0.333697</td>\n",
              "      <td>0.402174</td>\n",
              "      <td>0.187622</td>\n",
              "      <td>0.217360</td>\n",
              "      <td>0.193937</td>\n",
              "      <td>0.143928</td>\n",
              "      <td>1.877731</td>\n",
              "      <td>1.577395</td>\n",
              "      <td>0.325713</td>\n",
              "      <td>0.347221</td>\n",
              "      <td>0.317708</td>\n",
              "      <td>0.411982</td>\n",
              "      <td>1.563006</td>\n",
              "      <td>1.519953</td>\n",
              "      <td>0.416020</td>\n",
              "      <td>0.359889</td>\n",
              "      <td>0.307419</td>\n",
              "      <td>0.268243</td>\n",
              "      <td>2.465443</td>\n",
              "      <td>2.438318</td>\n",
              "      <td>0.865641</td>\n",
              "      <td>0.835634</td>\n",
              "      <td>1.071779</td>\n",
              "      <td>0.948709</td>\n",
              "      <td>0.495662</td>\n",
              "      <td>0.514014</td>\n",
              "      <td>1.872470</td>\n",
              "      <td>1.630253</td>\n",
              "      <td>0.714953</td>\n",
              "      <td>0.838445</td>\n",
              "      <td>1.272541</td>\n",
              "      <td>1.340098</td>\n",
              "      <td>0.541087</td>\n",
              "      <td>0.553079</td>\n",
              "      <td>0.155602</td>\n",
              "      <td>0.205390</td>\n",
              "    </tr>\n",
              "    <tr>\n",
              "      <th>min</th>\n",
              "      <td>55.000000</td>\n",
              "      <td>0.013582</td>\n",
              "      <td>0.008788</td>\n",
              "      <td>0.029157</td>\n",
              "      <td>0.038525</td>\n",
              "      <td>0.135233</td>\n",
              "      <td>0.161498</td>\n",
              "      <td>0.353952</td>\n",
              "      <td>0.314563</td>\n",
              "      <td>0.213282</td>\n",
              "      <td>0.350450</td>\n",
              "      <td>1.308482</td>\n",
              "      <td>1.107941</td>\n",
              "      <td>29.723216</td>\n",
              "      <td>28.857440</td>\n",
              "      <td>1.126209</td>\n",
              "      <td>0.804594</td>\n",
              "      <td>4.427567</td>\n",
              "      <td>4.069658</td>\n",
              "      <td>0.122557</td>\n",
              "      <td>0.103655</td>\n",
              "      <td>1.572158</td>\n",
              "      <td>1.634777</td>\n",
              "      <td>0.0</td>\n",
              "      <td>0.000000</td>\n",
              "      <td>0.411537</td>\n",
              "      <td>0.212508</td>\n",
              "      <td>0.096282</td>\n",
              "      <td>0.083291</td>\n",
              "      <td>2.176482</td>\n",
              "      <td>2.078133</td>\n",
              "      <td>2.290886</td>\n",
              "      <td>1.726031</td>\n",
              "      <td>0.481924</td>\n",
              "      <td>0.431094</td>\n",
              "      <td>0.0</td>\n",
              "      <td>0.000000</td>\n",
              "      <td>1.303369</td>\n",
              "      <td>1.218851</td>\n",
              "      <td>0.700492</td>\n",
              "      <td>...</td>\n",
              "      <td>0.879714</td>\n",
              "      <td>0.772949</td>\n",
              "      <td>2.665040</td>\n",
              "      <td>2.960514</td>\n",
              "      <td>1.197886</td>\n",
              "      <td>1.433416</td>\n",
              "      <td>0.400376</td>\n",
              "      <td>0.396569</td>\n",
              "      <td>0.307760</td>\n",
              "      <td>0.278808</td>\n",
              "      <td>5.322915</td>\n",
              "      <td>5.790741</td>\n",
              "      <td>1.057807</td>\n",
              "      <td>1.050952</td>\n",
              "      <td>0.734884</td>\n",
              "      <td>0.817581</td>\n",
              "      <td>4.313804</td>\n",
              "      <td>4.804635</td>\n",
              "      <td>0.727407</td>\n",
              "      <td>0.827115</td>\n",
              "      <td>0.588594</td>\n",
              "      <td>0.477195</td>\n",
              "      <td>5.641708</td>\n",
              "      <td>4.897732</td>\n",
              "      <td>1.482560</td>\n",
              "      <td>1.297264</td>\n",
              "      <td>2.944962</td>\n",
              "      <td>2.661918</td>\n",
              "      <td>0.666768</td>\n",
              "      <td>1.432023</td>\n",
              "      <td>2.851669</td>\n",
              "      <td>4.882628</td>\n",
              "      <td>1.523420</td>\n",
              "      <td>1.944923</td>\n",
              "      <td>2.852476</td>\n",
              "      <td>3.011352</td>\n",
              "      <td>1.035356</td>\n",
              "      <td>1.050926</td>\n",
              "      <td>0.237356</td>\n",
              "      <td>0.377992</td>\n",
              "    </tr>\n",
              "    <tr>\n",
              "      <th>25%</th>\n",
              "      <td>72.000000</td>\n",
              "      <td>0.028070</td>\n",
              "      <td>0.021043</td>\n",
              "      <td>0.052625</td>\n",
              "      <td>0.062000</td>\n",
              "      <td>0.284919</td>\n",
              "      <td>0.304557</td>\n",
              "      <td>0.629464</td>\n",
              "      <td>0.551302</td>\n",
              "      <td>0.442588</td>\n",
              "      <td>0.519776</td>\n",
              "      <td>2.340349</td>\n",
              "      <td>2.442544</td>\n",
              "      <td>34.201412</td>\n",
              "      <td>34.045880</td>\n",
              "      <td>1.277604</td>\n",
              "      <td>0.962455</td>\n",
              "      <td>5.593765</td>\n",
              "      <td>5.354616</td>\n",
              "      <td>0.190887</td>\n",
              "      <td>0.178810</td>\n",
              "      <td>2.042133</td>\n",
              "      <td>2.363949</td>\n",
              "      <td>0.0</td>\n",
              "      <td>0.004428</td>\n",
              "      <td>0.632624</td>\n",
              "      <td>0.485588</td>\n",
              "      <td>0.166133</td>\n",
              "      <td>0.150114</td>\n",
              "      <td>3.069810</td>\n",
              "      <td>2.858094</td>\n",
              "      <td>4.106347</td>\n",
              "      <td>3.995412</td>\n",
              "      <td>0.681520</td>\n",
              "      <td>0.643376</td>\n",
              "      <td>0.0</td>\n",
              "      <td>0.008785</td>\n",
              "      <td>1.742922</td>\n",
              "      <td>1.546216</td>\n",
              "      <td>0.776129</td>\n",
              "      <td>...</td>\n",
              "      <td>1.461208</td>\n",
              "      <td>1.291792</td>\n",
              "      <td>4.500459</td>\n",
              "      <td>4.447639</td>\n",
              "      <td>1.733090</td>\n",
              "      <td>1.892375</td>\n",
              "      <td>0.592090</td>\n",
              "      <td>0.610557</td>\n",
              "      <td>0.480995</td>\n",
              "      <td>0.439592</td>\n",
              "      <td>8.513911</td>\n",
              "      <td>7.806331</td>\n",
              "      <td>1.476365</td>\n",
              "      <td>1.330949</td>\n",
              "      <td>1.171243</td>\n",
              "      <td>1.229669</td>\n",
              "      <td>7.353025</td>\n",
              "      <td>7.291859</td>\n",
              "      <td>1.135271</td>\n",
              "      <td>1.233085</td>\n",
              "      <td>1.029020</td>\n",
              "      <td>0.801136</td>\n",
              "      <td>10.280863</td>\n",
              "      <td>9.302781</td>\n",
              "      <td>2.844890</td>\n",
              "      <td>2.706894</td>\n",
              "      <td>4.350467</td>\n",
              "      <td>4.130102</td>\n",
              "      <td>1.633697</td>\n",
              "      <td>2.322651</td>\n",
              "      <td>6.354310</td>\n",
              "      <td>6.795463</td>\n",
              "      <td>2.596322</td>\n",
              "      <td>3.151949</td>\n",
              "      <td>4.787016</td>\n",
              "      <td>4.778200</td>\n",
              "      <td>1.753072</td>\n",
              "      <td>1.804867</td>\n",
              "      <td>0.441153</td>\n",
              "      <td>0.559030</td>\n",
              "    </tr>\n",
              "    <tr>\n",
              "      <th>50%</th>\n",
              "      <td>76.000000</td>\n",
              "      <td>0.040864</td>\n",
              "      <td>0.030645</td>\n",
              "      <td>0.060694</td>\n",
              "      <td>0.073769</td>\n",
              "      <td>0.327820</td>\n",
              "      <td>0.333290</td>\n",
              "      <td>0.723004</td>\n",
              "      <td>0.719753</td>\n",
              "      <td>0.558760</td>\n",
              "      <td>0.622039</td>\n",
              "      <td>2.529581</td>\n",
              "      <td>2.668397</td>\n",
              "      <td>37.608652</td>\n",
              "      <td>37.331449</td>\n",
              "      <td>1.378424</td>\n",
              "      <td>1.028859</td>\n",
              "      <td>6.343322</td>\n",
              "      <td>5.874600</td>\n",
              "      <td>0.263012</td>\n",
              "      <td>0.251957</td>\n",
              "      <td>2.356373</td>\n",
              "      <td>2.506733</td>\n",
              "      <td>0.0</td>\n",
              "      <td>0.005945</td>\n",
              "      <td>0.689066</td>\n",
              "      <td>0.535947</td>\n",
              "      <td>0.242305</td>\n",
              "      <td>0.212439</td>\n",
              "      <td>3.251832</td>\n",
              "      <td>3.153478</td>\n",
              "      <td>4.264229</td>\n",
              "      <td>4.272792</td>\n",
              "      <td>0.755980</td>\n",
              "      <td>0.702965</td>\n",
              "      <td>0.0</td>\n",
              "      <td>0.012651</td>\n",
              "      <td>1.902757</td>\n",
              "      <td>1.653910</td>\n",
              "      <td>0.839587</td>\n",
              "      <td>...</td>\n",
              "      <td>1.654554</td>\n",
              "      <td>1.468920</td>\n",
              "      <td>5.645655</td>\n",
              "      <td>5.399788</td>\n",
              "      <td>1.912063</td>\n",
              "      <td>2.174133</td>\n",
              "      <td>0.762142</td>\n",
              "      <td>0.731553</td>\n",
              "      <td>0.617039</td>\n",
              "      <td>0.518639</td>\n",
              "      <td>9.399439</td>\n",
              "      <td>8.702852</td>\n",
              "      <td>1.620032</td>\n",
              "      <td>1.639755</td>\n",
              "      <td>1.409141</td>\n",
              "      <td>1.447106</td>\n",
              "      <td>8.171212</td>\n",
              "      <td>7.894259</td>\n",
              "      <td>1.450061</td>\n",
              "      <td>1.359027</td>\n",
              "      <td>1.201612</td>\n",
              "      <td>0.976315</td>\n",
              "      <td>11.984925</td>\n",
              "      <td>11.469822</td>\n",
              "      <td>3.130916</td>\n",
              "      <td>3.078520</td>\n",
              "      <td>4.644942</td>\n",
              "      <td>4.770765</td>\n",
              "      <td>1.820949</td>\n",
              "      <td>2.478435</td>\n",
              "      <td>7.600875</td>\n",
              "      <td>7.941630</td>\n",
              "      <td>2.989279</td>\n",
              "      <td>3.650969</td>\n",
              "      <td>5.429844</td>\n",
              "      <td>5.440267</td>\n",
              "      <td>2.036797</td>\n",
              "      <td>2.037277</td>\n",
              "      <td>0.557883</td>\n",
              "      <td>0.655459</td>\n",
              "    </tr>\n",
              "    <tr>\n",
              "      <th>75%</th>\n",
              "      <td>81.000000</td>\n",
              "      <td>0.048980</td>\n",
              "      <td>0.042384</td>\n",
              "      <td>0.080080</td>\n",
              "      <td>0.086486</td>\n",
              "      <td>0.373129</td>\n",
              "      <td>0.361917</td>\n",
              "      <td>0.842578</td>\n",
              "      <td>0.813988</td>\n",
              "      <td>0.667545</td>\n",
              "      <td>0.722436</td>\n",
              "      <td>2.850167</td>\n",
              "      <td>2.895294</td>\n",
              "      <td>41.449715</td>\n",
              "      <td>41.679691</td>\n",
              "      <td>1.507016</td>\n",
              "      <td>1.191760</td>\n",
              "      <td>8.464734</td>\n",
              "      <td>8.890726</td>\n",
              "      <td>0.325996</td>\n",
              "      <td>0.315824</td>\n",
              "      <td>2.622055</td>\n",
              "      <td>2.957522</td>\n",
              "      <td>0.0</td>\n",
              "      <td>0.007980</td>\n",
              "      <td>0.775588</td>\n",
              "      <td>0.606486</td>\n",
              "      <td>0.336984</td>\n",
              "      <td>0.330407</td>\n",
              "      <td>3.515667</td>\n",
              "      <td>3.310369</td>\n",
              "      <td>4.597396</td>\n",
              "      <td>4.724468</td>\n",
              "      <td>0.832031</td>\n",
              "      <td>0.800224</td>\n",
              "      <td>0.0</td>\n",
              "      <td>0.020169</td>\n",
              "      <td>2.046645</td>\n",
              "      <td>1.868231</td>\n",
              "      <td>0.926604</td>\n",
              "      <td>...</td>\n",
              "      <td>2.037839</td>\n",
              "      <td>1.762286</td>\n",
              "      <td>6.381552</td>\n",
              "      <td>6.369016</td>\n",
              "      <td>2.162431</td>\n",
              "      <td>2.444091</td>\n",
              "      <td>0.865878</td>\n",
              "      <td>0.854337</td>\n",
              "      <td>0.767161</td>\n",
              "      <td>0.595290</td>\n",
              "      <td>11.109534</td>\n",
              "      <td>9.476808</td>\n",
              "      <td>1.909235</td>\n",
              "      <td>1.957549</td>\n",
              "      <td>1.641306</td>\n",
              "      <td>1.712637</td>\n",
              "      <td>9.531792</td>\n",
              "      <td>8.795553</td>\n",
              "      <td>1.689287</td>\n",
              "      <td>1.641622</td>\n",
              "      <td>1.477157</td>\n",
              "      <td>1.231942</td>\n",
              "      <td>13.469412</td>\n",
              "      <td>12.897751</td>\n",
              "      <td>4.040467</td>\n",
              "      <td>3.906119</td>\n",
              "      <td>5.607729</td>\n",
              "      <td>5.375773</td>\n",
              "      <td>2.056533</td>\n",
              "      <td>2.789409</td>\n",
              "      <td>8.381290</td>\n",
              "      <td>8.883126</td>\n",
              "      <td>3.494590</td>\n",
              "      <td>4.167828</td>\n",
              "      <td>6.438141</td>\n",
              "      <td>6.441915</td>\n",
              "      <td>2.444616</td>\n",
              "      <td>2.501138</td>\n",
              "      <td>0.629946</td>\n",
              "      <td>0.806150</td>\n",
              "    </tr>\n",
              "    <tr>\n",
              "      <th>max</th>\n",
              "      <td>90.000000</td>\n",
              "      <td>0.095719</td>\n",
              "      <td>0.079800</td>\n",
              "      <td>0.142294</td>\n",
              "      <td>0.144082</td>\n",
              "      <td>0.535776</td>\n",
              "      <td>0.487392</td>\n",
              "      <td>1.111668</td>\n",
              "      <td>1.063428</td>\n",
              "      <td>1.164329</td>\n",
              "      <td>1.781424</td>\n",
              "      <td>3.913267</td>\n",
              "      <td>4.110380</td>\n",
              "      <td>50.446712</td>\n",
              "      <td>51.583549</td>\n",
              "      <td>2.001221</td>\n",
              "      <td>1.472189</td>\n",
              "      <td>15.385412</td>\n",
              "      <td>14.085328</td>\n",
              "      <td>0.575704</td>\n",
              "      <td>0.439688</td>\n",
              "      <td>3.503272</td>\n",
              "      <td>3.748620</td>\n",
              "      <td>0.0</td>\n",
              "      <td>0.018093</td>\n",
              "      <td>1.347318</td>\n",
              "      <td>0.988314</td>\n",
              "      <td>0.664644</td>\n",
              "      <td>0.577518</td>\n",
              "      <td>4.509683</td>\n",
              "      <td>4.738575</td>\n",
              "      <td>5.577651</td>\n",
              "      <td>5.803082</td>\n",
              "      <td>1.070369</td>\n",
              "      <td>0.955765</td>\n",
              "      <td>0.0</td>\n",
              "      <td>0.031580</td>\n",
              "      <td>2.363538</td>\n",
              "      <td>2.147247</td>\n",
              "      <td>1.255718</td>\n",
              "      <td>...</td>\n",
              "      <td>2.736471</td>\n",
              "      <td>2.423345</td>\n",
              "      <td>8.519341</td>\n",
              "      <td>8.047925</td>\n",
              "      <td>2.979388</td>\n",
              "      <td>3.242961</td>\n",
              "      <td>1.233075</td>\n",
              "      <td>1.415553</td>\n",
              "      <td>1.052176</td>\n",
              "      <td>1.054102</td>\n",
              "      <td>15.370157</td>\n",
              "      <td>14.508574</td>\n",
              "      <td>2.643587</td>\n",
              "      <td>2.579070</td>\n",
              "      <td>2.202263</td>\n",
              "      <td>2.674623</td>\n",
              "      <td>13.167701</td>\n",
              "      <td>12.939208</td>\n",
              "      <td>2.424713</td>\n",
              "      <td>2.713656</td>\n",
              "      <td>1.896234</td>\n",
              "      <td>1.653832</td>\n",
              "      <td>18.194224</td>\n",
              "      <td>18.720726</td>\n",
              "      <td>5.456275</td>\n",
              "      <td>5.499808</td>\n",
              "      <td>8.730488</td>\n",
              "      <td>7.843181</td>\n",
              "      <td>3.917706</td>\n",
              "      <td>4.496988</td>\n",
              "      <td>14.033604</td>\n",
              "      <td>13.560525</td>\n",
              "      <td>5.272375</td>\n",
              "      <td>6.713505</td>\n",
              "      <td>9.480097</td>\n",
              "      <td>9.478616</td>\n",
              "      <td>4.090366</td>\n",
              "      <td>3.836798</td>\n",
              "      <td>1.003753</td>\n",
              "      <td>1.306486</td>\n",
              "    </tr>\n",
              "  </tbody>\n",
              "</table>\n",
              "<p>8 rows × 285 columns</p>\n",
              "</div>"
            ],
            "text/plain": [
              "              Age  GM_l3thVen_  ...  CSF_lTemTraGy_  CSF_rTemTraGy_\n",
              "count  289.000000   289.000000  ...      289.000000      289.000000\n",
              "mean    76.273356     0.042531  ...        0.561016        0.702669\n",
              "std      7.121808     0.017928  ...        0.155602        0.205390\n",
              "min     55.000000     0.013582  ...        0.237356        0.377992\n",
              "25%     72.000000     0.028070  ...        0.441153        0.559030\n",
              "50%     76.000000     0.040864  ...        0.557883        0.655459\n",
              "75%     81.000000     0.048980  ...        0.629946        0.806150\n",
              "max     90.000000     0.095719  ...        1.003753        1.306486\n",
              "\n",
              "[8 rows x 285 columns]"
            ]
          },
          "metadata": {
            "tags": []
          },
          "execution_count": 31
        }
      ]
    },
    {
      "cell_type": "code",
      "metadata": {
        "colab": {
          "base_uri": "https://localhost:8080/",
          "height": 172
        },
        "id": "gbfuwVa_CPuc",
        "outputId": "87b8ba91-4af3-4b68-a852-de38eff155cb"
      },
      "source": [
        "df.describe(include=object)"
      ],
      "execution_count": 32,
      "outputs": [
        {
          "output_type": "execute_result",
          "data": {
            "text/html": [
              "<div>\n",
              "<style scoped>\n",
              "    .dataframe tbody tr th:only-of-type {\n",
              "        vertical-align: middle;\n",
              "    }\n",
              "\n",
              "    .dataframe tbody tr th {\n",
              "        vertical-align: top;\n",
              "    }\n",
              "\n",
              "    .dataframe thead th {\n",
              "        text-align: right;\n",
              "    }\n",
              "</style>\n",
              "<table border=\"1\" class=\"dataframe\">\n",
              "  <thead>\n",
              "    <tr style=\"text-align: right;\">\n",
              "      <th></th>\n",
              "      <th>Image_Data_ID</th>\n",
              "      <th>Subject</th>\n",
              "      <th>Group</th>\n",
              "      <th>Sex</th>\n",
              "    </tr>\n",
              "  </thead>\n",
              "  <tbody>\n",
              "    <tr>\n",
              "      <th>count</th>\n",
              "      <td>289</td>\n",
              "      <td>289</td>\n",
              "      <td>289</td>\n",
              "      <td>289</td>\n",
              "    </tr>\n",
              "    <tr>\n",
              "      <th>unique</th>\n",
              "      <td>266</td>\n",
              "      <td>76</td>\n",
              "      <td>3</td>\n",
              "      <td>2</td>\n",
              "    </tr>\n",
              "    <tr>\n",
              "      <th>top</th>\n",
              "      <td>I83389</td>\n",
              "      <td>023_S_0376</td>\n",
              "      <td>MCI</td>\n",
              "      <td>M</td>\n",
              "    </tr>\n",
              "    <tr>\n",
              "      <th>freq</th>\n",
              "      <td>2</td>\n",
              "      <td>14</td>\n",
              "      <td>159</td>\n",
              "      <td>179</td>\n",
              "    </tr>\n",
              "  </tbody>\n",
              "</table>\n",
              "</div>"
            ],
            "text/plain": [
              "       Image_Data_ID     Subject Group  Sex\n",
              "count            289         289   289  289\n",
              "unique           266          76     3    2\n",
              "top           I83389  023_S_0376   MCI    M\n",
              "freq               2          14   159  179"
            ]
          },
          "metadata": {
            "tags": []
          },
          "execution_count": 32
        }
      ]
    },
    {
      "cell_type": "code",
      "metadata": {
        "colab": {
          "base_uri": "https://localhost:8080/"
        },
        "id": "IteCYP_hkuQq",
        "outputId": "dc8213a4-6d11-478d-9fb1-01177c01ac5e"
      },
      "source": [
        "df.info()"
      ],
      "execution_count": 33,
      "outputs": [
        {
          "output_type": "stream",
          "text": [
            "<class 'pandas.core.frame.DataFrame'>\n",
            "RangeIndex: 289 entries, 0 to 288\n",
            "Columns: 289 entries, Image_Data_ID to CSF_rTemTraGy_\n",
            "dtypes: float64(284), int64(1), object(4)\n",
            "memory usage: 652.6+ KB\n"
          ],
          "name": "stdout"
        }
      ]
    },
    {
      "cell_type": "code",
      "metadata": {
        "colab": {
          "base_uri": "https://localhost:8080/"
        },
        "id": "qdgRiQrVkuQr",
        "outputId": "c0990e2a-1ed7-44d5-d8b4-7db43e283a67"
      },
      "source": [
        "df.Group.value_counts()"
      ],
      "execution_count": 34,
      "outputs": [
        {
          "output_type": "execute_result",
          "data": {
            "text/plain": [
              "MCI    159\n",
              "CN      93\n",
              "AD      37\n",
              "Name: Group, dtype: int64"
            ]
          },
          "metadata": {
            "tags": []
          },
          "execution_count": 34
        }
      ]
    },
    {
      "cell_type": "code",
      "metadata": {
        "id": "R1tkssd8kuQr"
      },
      "source": [
        "#Map sex\n",
        "df.Sex=df.Sex.map({'F':0,'M':1})"
      ],
      "execution_count": 35,
      "outputs": []
    },
    {
      "cell_type": "code",
      "metadata": {
        "id": "cOQ8CIijlOBP"
      },
      "source": [
        "#Map Group\n",
        "#df.Group=df.Group.map({'CN':0,'MCI':1,'AD':2})"
      ],
      "execution_count": 36,
      "outputs": []
    },
    {
      "cell_type": "code",
      "metadata": {
        "colab": {
          "base_uri": "https://localhost:8080/"
        },
        "id": "a7rglZSfkuQs",
        "outputId": "9e71cac2-d784-409c-9a93-193e0d97a7cd"
      },
      "source": [
        "#Distribution of Dependent variable\n",
        "df.Group.value_counts(normalize=True)"
      ],
      "execution_count": 37,
      "outputs": [
        {
          "output_type": "execute_result",
          "data": {
            "text/plain": [
              "MCI    0.550173\n",
              "CN     0.321799\n",
              "AD     0.128028\n",
              "Name: Group, dtype: float64"
            ]
          },
          "metadata": {
            "tags": []
          },
          "execution_count": 37
        }
      ]
    },
    {
      "cell_type": "code",
      "metadata": {
        "colab": {
          "base_uri": "https://localhost:8080/",
          "height": 383
        },
        "id": "HOixCF6vLLR4",
        "outputId": "ad63b56f-1826-463f-8397-d5861a3e8825"
      },
      "source": [
        "ax = sns.countplot(df['Group'],label=\"Count\")       # M = 212, B = 357\n",
        "CN, MCI, AD = df.Group.value_counts()\n",
        "print('Number of Normal people: ',MCI)\n",
        "print('Number of MCI patient : ',CN)\n",
        "print('Number of AD patient : ',AD)\n"
      ],
      "execution_count": 38,
      "outputs": [
        {
          "output_type": "stream",
          "text": [
            "Number of Normal people:  93\n",
            "Number of MCI patient :  159\n",
            "Number of AD patient :  37\n"
          ],
          "name": "stdout"
        },
        {
          "output_type": "stream",
          "text": [
            "/usr/local/lib/python3.7/dist-packages/seaborn/_decorators.py:43: FutureWarning: Pass the following variable as a keyword arg: x. From version 0.12, the only valid positional argument will be `data`, and passing other arguments without an explicit keyword will result in an error or misinterpretation.\n",
            "  FutureWarning\n"
          ],
          "name": "stderr"
        },
        {
          "output_type": "display_data",
          "data": {
            "image/png": "[encoded data removed]",
            "text/plain": [
              "<Figure size 432x288 with 1 Axes>"
            ]
          },
          "metadata": {
            "tags": [],
            "needs_background": "light"
          }
        }
      ]
    },
    {
      "cell_type": "markdown",
      "metadata": {
        "id": "hz5f-YRVkuQt"
      },
      "source": [
        "# Modeling"
      ]
    },
    {
      "cell_type": "code",
      "metadata": {
        "id": "5n9l4266kuQt"
      },
      "source": [
        "#pip install lightgbm"
      ],
      "execution_count": 39,
      "outputs": []
    },
    {
      "cell_type": "code",
      "metadata": {
        "id": "OkcT3g2U20s3"
      },
      "source": [
        ""
      ],
      "execution_count": 39,
      "outputs": []
    },
    {
      "cell_type": "code",
      "metadata": {
        "id": "eKRm31QOkuQw"
      },
      "source": [
        "\n",
        "from sklearn.model_selection import train_test_split "
      ],
      "execution_count": 40,
      "outputs": []
    },
    {
      "cell_type": "code",
      "metadata": {
        "id": "pavz-bBPiayu"
      },
      "source": [
        ""
      ],
      "execution_count": 40,
      "outputs": []
    },
    {
      "cell_type": "code",
      "metadata": {
        "id": "WRi4jldYkuQx"
      },
      "source": [
        "feat=list(df.columns.drop(['Image_Data_ID','Subject','Group']))"
      ],
      "execution_count": 41,
      "outputs": []
    },
    {
      "cell_type": "code",
      "metadata": {
        "id": "LAZzTNELkuQy"
      },
      "source": [
        "#Train test split\n",
        "X_train, X_test, y_train, y_test = train_test_split( df[feat], \n",
        "                                                    df['Group'], \n",
        "                                                    test_size=0.33,\n",
        "                                                    stratify=df['Group'],\n",
        "                                                    shuffle=True,\n",
        "                                                    random_state=42)"
      ],
      "execution_count": 42,
      "outputs": []
    },
    {
      "cell_type": "code",
      "metadata": {
        "colab": {
          "base_uri": "https://localhost:8080/"
        },
        "id": "CPPq74AbtIAw",
        "outputId": "eefa80c2-29a9-4df5-951f-22f6bc03158f"
      },
      "source": [
        "#The following code is for Decision Tree\n",
        "from sklearn.tree import DecisionTreeClassifier\n",
        "from sklearn.metrics import accuracy_score\n",
        "dtc=DecisionTreeClassifier(max_depth=10)\n",
        "dtc.fit(X_train,y_train)\n",
        "accuracy_score(y_test,dtc.predict(X_test))"
      ],
      "execution_count": 43,
      "outputs": [
        {
          "output_type": "execute_result",
          "data": {
            "text/plain": [
              "0.8958333333333334"
            ]
          },
          "metadata": {
            "tags": []
          },
          "execution_count": 43
        }
      ]
    },
    {
      "cell_type": "code",
      "metadata": {
        "colab": {
          "base_uri": "https://localhost:8080/"
        },
        "id": "u2UooC1-iayu",
        "outputId": "931029e5-c978-41f0-a93d-113063ded5be"
      },
      "source": [
        "from sklearn.metrics import confusion_matrix\n",
        "confusion_matrix(y_test,dtc.predict(X_test))"
      ],
      "execution_count": 44,
      "outputs": [
        {
          "output_type": "execute_result",
          "data": {
            "text/plain": [
              "array([[11,  1,  0],\n",
              "       [ 1, 27,  3],\n",
              "       [ 1,  4, 48]])"
            ]
          },
          "metadata": {
            "tags": []
          },
          "execution_count": 44
        }
      ]
    },
    {
      "cell_type": "code",
      "metadata": {
        "colab": {
          "base_uri": "https://localhost:8080/"
        },
        "id": "wGBVxkQTiayv",
        "outputId": "abdb9bd2-fbbd-4a4f-dfc5-0e9829ec36b8"
      },
      "source": [
        "from sklearn.metrics import classification_report \n",
        "print(classification_report(y_test,dtc.predict(X_test)))"
      ],
      "execution_count": 45,
      "outputs": [
        {
          "output_type": "stream",
          "text": [
            "              precision    recall  f1-score   support\n",
            "\n",
            "          AD       0.85      0.92      0.88        12\n",
            "          CN       0.84      0.87      0.86        31\n",
            "         MCI       0.94      0.91      0.92        53\n",
            "\n",
            "    accuracy                           0.90        96\n",
            "   macro avg       0.88      0.90      0.89        96\n",
            "weighted avg       0.90      0.90      0.90        96\n",
            "\n"
          ],
          "name": "stdout"
        }
      ]
    },
    {
      "cell_type": "code",
      "metadata": {
        "colab": {
          "base_uri": "https://localhost:8080/"
        },
        "id": "LCGiJE4Aiayv",
        "outputId": "2aebc2d9-2710-4969-93f5-ab335580acd7"
      },
      "source": [
        "dtc.classes_ "
      ],
      "execution_count": 46,
      "outputs": [
        {
          "output_type": "execute_result",
          "data": {
            "text/plain": [
              "array(['AD', 'CN', 'MCI'], dtype=object)"
            ]
          },
          "metadata": {
            "tags": []
          },
          "execution_count": 46
        }
      ]
    },
    {
      "cell_type": "code",
      "metadata": {
        "colab": {
          "base_uri": "https://localhost:8080/",
          "height": 295
        },
        "id": "JGlrYbdaiayv",
        "outputId": "63cf8cce-d5b6-4143-9bd6-f8acfffc001c"
      },
      "source": [
        "from sklearn.metrics import roc_curve\n",
        "\n",
        "\n",
        "\n",
        "pred_prob = dtc.predict_proba(X_test)\n",
        "\n",
        "# roc curve for classes\n",
        "fpr = {}\n",
        "tpr = {}\n",
        "thresh ={}\n",
        "mmap=pd.Series(np.arange(0,len(dtc.classes_)),index=dtc.classes_ ).to_dict()\n",
        "\n",
        "n_class = 3\n",
        "\n",
        "for i in range(n_class):    \n",
        "    fpr[i], tpr[i], thresh[i] = roc_curve(np.where(y_test.apply(lambda x: mmap[x])==i,1,0), pred_prob[:,i])\n",
        "    \n",
        "# plotting    \n",
        "plt.plot(fpr[0], tpr[0], linestyle='--',color='orange', label='Class CN vs Rest')\n",
        "plt.plot(fpr[1], tpr[1], linestyle='--',color='green', label='Class MCI vs Rest')\n",
        "plt.plot(fpr[2], tpr[2], linestyle='--',color='blue', label='Class AD vs Rest')\n",
        "plt.title('Multiclass ROC curve')\n",
        "plt.xlabel('False Positive Rate')\n",
        "plt.ylabel('True Positive rate')\n",
        "plt.legend(loc='best')\n",
        "plt.savefig('Multiclass ROC',dpi=300); "
      ],
      "execution_count": 47,
      "outputs": [
        {
          "output_type": "display_data",
          "data": {
            "image/png": "[encoded data removed]",
            "text/plain": [
              "<Figure size 432x288 with 1 Axes>"
            ]
          },
          "metadata": {
            "tags": [],
            "needs_background": "light"
          }
        }
      ]
    },
    {
      "cell_type": "code",
      "metadata": {
        "id": "zPK92cWpiayw"
      },
      "source": [
        ""
      ],
      "execution_count": 47,
      "outputs": []
    },
    {
      "cell_type": "code",
      "metadata": {
        "colab": {
          "base_uri": "https://localhost:8080/"
        },
        "id": "duk5ye9HEO3S",
        "outputId": "bdf8a298-2a51-4e8e-8201-5f25b00a9522"
      },
      "source": [
        "from sklearn.model_selection import cross_val_score\n",
        "\n",
        "from sklearn.model_selection import StratifiedKFold\n",
        "\n",
        "cv = StratifiedKFold(n_splits=4, shuffle=True, random_state=1)\n",
        "\n",
        "scores = cross_val_score(dtc, df[feat], df['Group'], scoring = 'accuracy', cv = cv)\n",
        "\n",
        "print(scores.mean())"
      ],
      "execution_count": 48,
      "outputs": [
        {
          "output_type": "stream",
          "text": [
            "0.8962138508371386\n"
          ],
          "name": "stdout"
        }
      ]
    },
    {
      "cell_type": "code",
      "metadata": {
        "colab": {
          "base_uri": "https://localhost:8080/",
          "height": 1000
        },
        "id": "SikBz-ZcFzVo",
        "outputId": "88551c76-9532-44f6-e6f1-b3d871eb2e84"
      },
      "source": [
        "import matplotlib\n",
        "\n",
        "import matplotlib.pyplot as plt\n",
        "\n",
        "import seaborn as sns\n",
        "matplotlib.rc('xtick', labelsize=20) \n",
        "\n",
        "matplotlib.rc('ytick', labelsize=20)\n",
        "%matplotlib inline\n",
        "d_rad_range = range(1, 31)\n",
        "d_scores = []\n",
        "for d in d_rad_range:\n",
        "  dt = DecisionTreeClassifier(max_depth=d)\n",
        "  scores = cross_val_score(dt, df[feat], df['Group'], cv=10, scoring='accuracy')\n",
        "  d_scores.append(scores.mean())\n",
        "  plt.figure(figsize=(10, 5))\n",
        "\n",
        "sns.set_style(\"darkgrid\")\n",
        "\n",
        "plt.plot(d_rad_range, d_scores)\n",
        "\n",
        "plt.xlabel('d', size=20)\n",
        "\n",
        "plt.ylabel('d_scores', size=20)"
      ],
      "execution_count": 49,
      "outputs": [
        {
          "output_type": "stream",
          "text": [
            "/usr/local/lib/python3.7/dist-packages/ipykernel_launcher.py:16: RuntimeWarning: More than 20 figures have been opened. Figures created through the pyplot interface (`matplotlib.pyplot.figure`) are retained until explicitly closed and may consume too much memory. (To control this warning, see the rcParam `figure.max_open_warning`).\n",
            "  app.launch_new_instance()\n",
            "/usr/local/lib/python3.7/dist-packages/ipykernel_launcher.py:16: RuntimeWarning: More than 20 figures have been opened. Figures created through the pyplot interface (`matplotlib.pyplot.figure`) are retained until explicitly closed and may consume too much memory. (To control this warning, see the rcParam `figure.max_open_warning`).\n",
            "  app.launch_new_instance()\n",
            "/usr/local/lib/python3.7/dist-packages/ipykernel_launcher.py:16: RuntimeWarning: More than 20 figures have been opened. Figures created through the pyplot interface (`matplotlib.pyplot.figure`) are retained until explicitly closed and may consume too much memory. (To control this warning, see the rcParam `figure.max_open_warning`).\n",
            "  app.launch_new_instance()\n",
            "/usr/local/lib/python3.7/dist-packages/ipykernel_launcher.py:16: RuntimeWarning: More than 20 figures have been opened. Figures created through the pyplot interface (`matplotlib.pyplot.figure`) are retained until explicitly closed and may consume too much memory. (To control this warning, see the rcParam `figure.max_open_warning`).\n",
            "  app.launch_new_instance()\n",
            "/usr/local/lib/python3.7/dist-packages/ipykernel_launcher.py:16: RuntimeWarning: More than 20 figures have been opened. Figures created through the pyplot interface (`matplotlib.pyplot.figure`) are retained until explicitly closed and may consume too much memory. (To control this warning, see the rcParam `figure.max_open_warning`).\n",
            "  app.launch_new_instance()\n",
            "/usr/local/lib/python3.7/dist-packages/ipykernel_launcher.py:16: RuntimeWarning: More than 20 figures have been opened. Figures created through the pyplot interface (`matplotlib.pyplot.figure`) are retained until explicitly closed and may consume too much memory. (To control this warning, see the rcParam `figure.max_open_warning`).\n",
            "  app.launch_new_instance()\n",
            "/usr/local/lib/python3.7/dist-packages/ipykernel_launcher.py:16: RuntimeWarning: More than 20 figures have been opened. Figures created through the pyplot interface (`matplotlib.pyplot.figure`) are retained until explicitly closed and may consume too much memory. (To control this warning, see the rcParam `figure.max_open_warning`).\n",
            "  app.launch_new_instance()\n",
            "/usr/local/lib/python3.7/dist-packages/ipykernel_launcher.py:16: RuntimeWarning: More than 20 figures have been opened. Figures created through the pyplot interface (`matplotlib.pyplot.figure`) are retained until explicitly closed and may consume too much memory. (To control this warning, see the rcParam `figure.max_open_warning`).\n",
            "  app.launch_new_instance()\n",
            "/usr/local/lib/python3.7/dist-packages/ipykernel_launcher.py:16: RuntimeWarning: More than 20 figures have been opened. Figures created through the pyplot interface (`matplotlib.pyplot.figure`) are retained until explicitly closed and may consume too much memory. (To control this warning, see the rcParam `figure.max_open_warning`).\n",
            "  app.launch_new_instance()\n",
            "/usr/local/lib/python3.7/dist-packages/ipykernel_launcher.py:16: RuntimeWarning: More than 20 figures have been opened. Figures created through the pyplot interface (`matplotlib.pyplot.figure`) are retained until explicitly closed and may consume too much memory. (To control this warning, see the rcParam `figure.max_open_warning`).\n",
            "  app.launch_new_instance()\n"
          ],
          "name": "stderr"
        },
        {
          "output_type": "execute_result",
          "data": {
            "text/plain": [
              "Text(0, 0.5, 'd_scores')"
            ]
          },
          "metadata": {
            "tags": []
          },
          "execution_count": 49
        },
        {
          "output_type": "display_data",
          "data": {
            "text/plain": [
              "<Figure size 720x360 with 0 Axes>"
            ]
          },
          "metadata": {
            "tags": []
          }
        },
        {
          "output_type": "display_data",
          "data": {
            "text/plain": [
              "<Figure size 720x360 with 0 Axes>"
            ]
          },
          "metadata": {
            "tags": []
          }
        },
        {
          "output_type": "display_data",
          "data": {
            "text/plain": [
              "<Figure size 720x360 with 0 Axes>"
            ]
          },
          "metadata": {
            "tags": []
          }
        },
        {
          "output_type": "display_data",
          "data": {
            "text/plain": [
              "<Figure size 720x360 with 0 Axes>"
            ]
          },
          "metadata": {
            "tags": []
          }
        },
        {
          "output_type": "display_data",
          "data": {
            "text/plain": [
              "<Figure size 720x360 with 0 Axes>"
            ]
          },
          "metadata": {
            "tags": []
          }
        },
        {
          "output_type": "display_data",
          "data": {
            "text/plain": [
              "<Figure size 720x360 with 0 Axes>"
            ]
          },
          "metadata": {
            "tags": []
          }
        },
        {
          "output_type": "display_data",
          "data": {
            "text/plain": [
              "<Figure size 720x360 with 0 Axes>"
            ]
          },
          "metadata": {
            "tags": []
          }
        },
        {
          "output_type": "display_data",
          "data": {
            "text/plain": [
              "<Figure size 720x360 with 0 Axes>"
            ]
          },
          "metadata": {
            "tags": []
          }
        },
        {
          "output_type": "display_data",
          "data": {
            "text/plain": [
              "<Figure size 720x360 with 0 Axes>"
            ]
          },
          "metadata": {
            "tags": []
          }
        },
        {
          "output_type": "display_data",
          "data": {
            "text/plain": [
              "<Figure size 720x360 with 0 Axes>"
            ]
          },
          "metadata": {
            "tags": []
          }
        },
        {
          "output_type": "display_data",
          "data": {
            "text/plain": [
              "<Figure size 720x360 with 0 Axes>"
            ]
          },
          "metadata": {
            "tags": []
          }
        },
        {
          "output_type": "display_data",
          "data": {
            "text/plain": [
              "<Figure size 720x360 with 0 Axes>"
            ]
          },
          "metadata": {
            "tags": []
          }
        },
        {
          "output_type": "display_data",
          "data": {
            "text/plain": [
              "<Figure size 720x360 with 0 Axes>"
            ]
          },
          "metadata": {
            "tags": []
          }
        },
        {
          "output_type": "display_data",
          "data": {
            "text/plain": [
              "<Figure size 720x360 with 0 Axes>"
            ]
          },
          "metadata": {
            "tags": []
          }
        },
        {
          "output_type": "display_data",
          "data": {
            "text/plain": [
              "<Figure size 720x360 with 0 Axes>"
            ]
          },
          "metadata": {
            "tags": []
          }
        },
        {
          "output_type": "display_data",
          "data": {
            "text/plain": [
              "<Figure size 720x360 with 0 Axes>"
            ]
          },
          "metadata": {
            "tags": []
          }
        },
        {
          "output_type": "display_data",
          "data": {
            "text/plain": [
              "<Figure size 720x360 with 0 Axes>"
            ]
          },
          "metadata": {
            "tags": []
          }
        },
        {
          "output_type": "display_data",
          "data": {
            "text/plain": [
              "<Figure size 720x360 with 0 Axes>"
            ]
          },
          "metadata": {
            "tags": []
          }
        },
        {
          "output_type": "display_data",
          "data": {
            "text/plain": [
              "<Figure size 720x360 with 0 Axes>"
            ]
          },
          "metadata": {
            "tags": []
          }
        },
        {
          "output_type": "display_data",
          "data": {
            "text/plain": [
              "<Figure size 720x360 with 0 Axes>"
            ]
          },
          "metadata": {
            "tags": []
          }
        },
        {
          "output_type": "display_data",
          "data": {
            "text/plain": [
              "<Figure size 720x360 with 0 Axes>"
            ]
          },
          "metadata": {
            "tags": []
          }
        },
        {
          "output_type": "display_data",
          "data": {
            "text/plain": [
              "<Figure size 720x360 with 0 Axes>"
            ]
          },
          "metadata": {
            "tags": []
          }
        },
        {
          "output_type": "display_data",
          "data": {
            "text/plain": [
              "<Figure size 720x360 with 0 Axes>"
            ]
          },
          "metadata": {
            "tags": []
          }
        },
        {
          "output_type": "display_data",
          "data": {
            "text/plain": [
              "<Figure size 720x360 with 0 Axes>"
            ]
          },
          "metadata": {
            "tags": []
          }
        },
        {
          "output_type": "display_data",
          "data": {
            "text/plain": [
              "<Figure size 720x360 with 0 Axes>"
            ]
          },
          "metadata": {
            "tags": []
          }
        },
        {
          "output_type": "display_data",
          "data": {
            "text/plain": [
              "<Figure size 720x360 with 0 Axes>"
            ]
          },
          "metadata": {
            "tags": []
          }
        },
        {
          "output_type": "display_data",
          "data": {
            "text/plain": [
              "<Figure size 720x360 with 0 Axes>"
            ]
          },
          "metadata": {
            "tags": []
          }
        },
        {
          "output_type": "display_data",
          "data": {
            "text/plain": [
              "<Figure size 720x360 with 0 Axes>"
            ]
          },
          "metadata": {
            "tags": []
          }
        },
        {
          "output_type": "display_data",
          "data": {
            "text/plain": [
              "<Figure size 720x360 with 0 Axes>"
            ]
          },
          "metadata": {
            "tags": []
          }
        },
        {
          "output_type": "display_data",
          "data": {
            "image/png": "[encoded data removed]",
            "text/plain": [
              "<Figure size 720x360 with 1 Axes>"
            ]
          },
          "metadata": {
            "tags": [],
            "needs_background": "light"
          }
        }
      ]
    },
    {
      "cell_type": "code",
      "metadata": {
        "colab": {
          "base_uri": "https://localhost:8080/"
        },
        "id": "u_4wkfNduMgi",
        "outputId": "b2bf1306-d302-4865-f75e-50081f12ea32"
      },
      "source": [
        "print('Depth of the Decision Tree:', dtc.get_depth())"
      ],
      "execution_count": 50,
      "outputs": [
        {
          "output_type": "stream",
          "text": [
            "Depth of the Decision Tree: 7\n"
          ],
          "name": "stdout"
        }
      ]
    },
    {
      "cell_type": "code",
      "metadata": {
        "colab": {
          "base_uri": "https://localhost:8080/"
        },
        "id": "xQhQ8ASGuM61",
        "outputId": "088e9697-ae6d-49b6-f88e-2e8cc9f989b4"
      },
      "source": [
        "dtc_predict_train=dtc.predict(X_train)\n",
        "print('Target on train data', dtc_predict_train)"
      ],
      "execution_count": 51,
      "outputs": [
        {
          "output_type": "stream",
          "text": [
            "Target on train data ['MCI' 'AD' 'MCI' 'CN' 'MCI' 'CN' 'AD' 'MCI' 'MCI' 'CN' 'MCI' 'AD' 'MCI'\n",
            " 'CN' 'MCI' 'MCI' 'MCI' 'MCI' 'MCI' 'MCI' 'MCI' 'MCI' 'CN' 'MCI' 'MCI'\n",
            " 'MCI' 'CN' 'CN' 'CN' 'MCI' 'MCI' 'MCI' 'CN' 'CN' 'CN' 'MCI' 'AD' 'CN'\n",
            " 'MCI' 'CN' 'MCI' 'MCI' 'CN' 'CN' 'MCI' 'MCI' 'CN' 'CN' 'MCI' 'AD' 'AD'\n",
            " 'MCI' 'AD' 'MCI' 'MCI' 'MCI' 'MCI' 'CN' 'CN' 'MCI' 'CN' 'CN' 'MCI' 'AD'\n",
            " 'MCI' 'MCI' 'MCI' 'CN' 'CN' 'CN' 'CN' 'MCI' 'MCI' 'AD' 'CN' 'CN' 'MCI'\n",
            " 'MCI' 'MCI' 'MCI' 'CN' 'MCI' 'CN' 'MCI' 'MCI' 'MCI' 'MCI' 'CN' 'MCI'\n",
            " 'MCI' 'MCI' 'MCI' 'MCI' 'CN' 'MCI' 'MCI' 'CN' 'MCI' 'MCI' 'AD' 'CN' 'CN'\n",
            " 'AD' 'AD' 'MCI' 'CN' 'AD' 'CN' 'CN' 'CN' 'AD' 'CN' 'AD' 'MCI' 'MCI' 'CN'\n",
            " 'MCI' 'CN' 'MCI' 'CN' 'MCI' 'CN' 'MCI' 'MCI' 'CN' 'AD' 'MCI' 'MCI' 'MCI'\n",
            " 'MCI' 'MCI' 'CN' 'CN' 'MCI' 'MCI' 'MCI' 'MCI' 'CN' 'CN' 'AD' 'AD' 'MCI'\n",
            " 'CN' 'MCI' 'MCI' 'MCI' 'MCI' 'MCI' 'CN' 'CN' 'MCI' 'MCI' 'AD' 'MCI' 'CN'\n",
            " 'AD' 'CN' 'CN' 'AD' 'MCI' 'MCI' 'CN' 'MCI' 'CN' 'MCI' 'CN' 'MCI' 'MCI'\n",
            " 'CN' 'AD' 'CN' 'MCI' 'CN' 'MCI' 'AD' 'MCI' 'MCI' 'MCI' 'MCI' 'MCI' 'MCI'\n",
            " 'MCI' 'MCI' 'MCI' 'MCI' 'CN' 'AD' 'MCI' 'CN' 'CN' 'MCI' 'MCI' 'MCI']\n"
          ],
          "name": "stdout"
        }
      ]
    },
    {
      "cell_type": "code",
      "metadata": {
        "colab": {
          "base_uri": "https://localhost:8080/"
        },
        "id": "H8MGYz-UvUtm",
        "outputId": "0c943c10-aa57-475d-b25f-2f6bea47f072"
      },
      "source": [
        "dtc_accuracy_train = accuracy_score(y_train,dtc_predict_train)\n",
        "print('accuracy_score on train dataset : ', dtc_accuracy_train)"
      ],
      "execution_count": 52,
      "outputs": [
        {
          "output_type": "stream",
          "text": [
            "accuracy_score on train dataset :  0.9948186528497409\n"
          ],
          "name": "stdout"
        }
      ]
    },
    {
      "cell_type": "code",
      "metadata": {
        "colab": {
          "base_uri": "https://localhost:8080/"
        },
        "id": "DGJLJgKYuNTu",
        "outputId": "5a05f888-df88-4e92-e95f-416a7d07fa9d"
      },
      "source": [
        "dtc_predict_test=dtc.predict(X_test)\n",
        "print('Target on test data', dtc_predict_test)"
      ],
      "execution_count": 53,
      "outputs": [
        {
          "output_type": "stream",
          "text": [
            "Target on test data ['MCI' 'MCI' 'MCI' 'MCI' 'AD' 'CN' 'MCI' 'CN' 'CN' 'MCI' 'CN' 'MCI' 'MCI'\n",
            " 'CN' 'MCI' 'MCI' 'AD' 'CN' 'MCI' 'CN' 'CN' 'MCI' 'CN' 'AD' 'MCI' 'CN'\n",
            " 'MCI' 'MCI' 'MCI' 'MCI' 'CN' 'CN' 'MCI' 'MCI' 'MCI' 'CN' 'CN' 'MCI' 'MCI'\n",
            " 'MCI' 'AD' 'CN' 'MCI' 'MCI' 'CN' 'CN' 'CN' 'MCI' 'AD' 'CN' 'MCI' 'MCI'\n",
            " 'AD' 'CN' 'MCI' 'CN' 'MCI' 'AD' 'MCI' 'MCI' 'AD' 'CN' 'CN' 'CN' 'MCI'\n",
            " 'MCI' 'MCI' 'MCI' 'CN' 'CN' 'MCI' 'MCI' 'CN' 'MCI' 'CN' 'MCI' 'MCI' 'CN'\n",
            " 'MCI' 'MCI' 'MCI' 'CN' 'CN' 'MCI' 'AD' 'MCI' 'MCI' 'MCI' 'AD' 'MCI' 'AD'\n",
            " 'CN' 'AD' 'MCI' 'AD' 'MCI']\n"
          ],
          "name": "stdout"
        }
      ]
    },
    {
      "cell_type": "code",
      "metadata": {
        "colab": {
          "base_uri": "https://localhost:8080/"
        },
        "id": "caI60xKyuNte",
        "outputId": "e1223d66-9bc9-4a50-c663-4c8eaa005ab1"
      },
      "source": [
        "dtc_accuracy_test = accuracy_score(y_test,dtc_predict_test)\n",
        "print('accuracy_score on test dataset : ', dtc_accuracy_test)"
      ],
      "execution_count": 54,
      "outputs": [
        {
          "output_type": "stream",
          "text": [
            "accuracy_score on test dataset :  0.8958333333333334\n"
          ],
          "name": "stdout"
        }
      ]
    },
    {
      "cell_type": "code",
      "metadata": {
        "colab": {
          "base_uri": "https://localhost:8080/"
        },
        "id": "mGuzRN7kw5r-",
        "outputId": "615ebf80-7f66-4405-85a9-5d9e16d451ab"
      },
      "source": [
        "#The following code is for the Random Forest\n",
        "from sklearn.ensemble import RandomForestClassifier\n",
        "rfc=RandomForestClassifier()\n",
        "# fit the model with the training data\n",
        "rfc.fit(X_train,y_train)\n",
        "# number of trees used\n",
        "print('Number of Trees used : ', rfc.n_estimators)\n",
        "# predict the target on the train dataset\n",
        "rfc_predict_train = rfc.predict(X_train)\n",
        "print('\\nTarget on train data',rfc_predict_train) \n",
        "\n",
        "# Accuray Score on train dataset\n",
        "rfc_accuracy_train = accuracy_score(y_train,rfc_predict_train)\n",
        "print('\\naccuracy_score on train dataset : ', rfc_accuracy_train)\n",
        "\n",
        "# predict the target on the test dataset\n",
        "rfc_predict_test = rfc.predict(X_test)\n",
        "print('\\nTarget on test data',rfc_predict_test) \n",
        "\n",
        "# Accuracy Score on test dataset\n",
        "rfc_accuracy_test = accuracy_score(y_test,rfc_predict_test)\n",
        "print('\\naccuracy_score on test dataset : ', rfc_accuracy_test)"
      ],
      "execution_count": 100,
      "outputs": [
        {
          "output_type": "stream",
          "text": [
            "Number of Trees used :  100\n",
            "\n",
            "Target on train data ['MCI' 'AD' 'MCI' 'CN' 'MCI' 'CN' 'AD' 'MCI' 'MCI' 'CN' 'MCI' 'AD' 'MCI'\n",
            " 'CN' 'MCI' 'MCI' 'MCI' 'MCI' 'MCI' 'MCI' 'MCI' 'MCI' 'CN' 'MCI' 'MCI'\n",
            " 'MCI' 'CN' 'CN' 'CN' 'MCI' 'MCI' 'MCI' 'CN' 'CN' 'CN' 'MCI' 'AD' 'CN'\n",
            " 'MCI' 'CN' 'MCI' 'MCI' 'CN' 'CN' 'MCI' 'MCI' 'CN' 'CN' 'MCI' 'AD' 'AD'\n",
            " 'MCI' 'AD' 'MCI' 'MCI' 'MCI' 'MCI' 'CN' 'CN' 'MCI' 'CN' 'CN' 'MCI' 'AD'\n",
            " 'MCI' 'MCI' 'MCI' 'CN' 'CN' 'CN' 'CN' 'MCI' 'MCI' 'AD' 'CN' 'CN' 'MCI'\n",
            " 'MCI' 'MCI' 'MCI' 'CN' 'MCI' 'CN' 'MCI' 'MCI' 'MCI' 'MCI' 'CN' 'MCI'\n",
            " 'MCI' 'MCI' 'MCI' 'MCI' 'CN' 'MCI' 'MCI' 'CN' 'MCI' 'MCI' 'AD' 'CN' 'CN'\n",
            " 'AD' 'AD' 'MCI' 'CN' 'AD' 'CN' 'CN' 'CN' 'AD' 'CN' 'AD' 'MCI' 'MCI' 'CN'\n",
            " 'MCI' 'CN' 'MCI' 'CN' 'MCI' 'CN' 'MCI' 'MCI' 'CN' 'AD' 'MCI' 'MCI' 'MCI'\n",
            " 'MCI' 'MCI' 'CN' 'CN' 'MCI' 'MCI' 'MCI' 'MCI' 'CN' 'CN' 'AD' 'AD' 'MCI'\n",
            " 'CN' 'MCI' 'MCI' 'MCI' 'MCI' 'MCI' 'CN' 'CN' 'MCI' 'MCI' 'AD' 'MCI' 'CN'\n",
            " 'AD' 'CN' 'CN' 'AD' 'MCI' 'MCI' 'CN' 'MCI' 'CN' 'MCI' 'CN' 'MCI' 'MCI'\n",
            " 'CN' 'AD' 'CN' 'MCI' 'CN' 'MCI' 'AD' 'MCI' 'MCI' 'MCI' 'MCI' 'MCI' 'MCI'\n",
            " 'MCI' 'MCI' 'MCI' 'MCI' 'CN' 'AD' 'MCI' 'CN' 'CN' 'MCI' 'MCI' 'MCI']\n",
            "\n",
            "accuracy_score on train dataset :  0.9948186528497409\n",
            "\n",
            "Target on test data ['MCI' 'MCI' 'MCI' 'MCI' 'AD' 'CN' 'MCI' 'CN' 'CN' 'MCI' 'CN' 'MCI' 'MCI'\n",
            " 'CN' 'MCI' 'MCI' 'MCI' 'CN' 'MCI' 'CN' 'CN' 'MCI' 'CN' 'AD' 'MCI' 'CN'\n",
            " 'MCI' 'MCI' 'MCI' 'MCI' 'MCI' 'CN' 'MCI' 'MCI' 'MCI' 'CN' 'CN' 'MCI'\n",
            " 'MCI' 'MCI' 'AD' 'CN' 'MCI' 'MCI' 'CN' 'CN' 'CN' 'MCI' 'AD' 'CN' 'MCI'\n",
            " 'MCI' 'AD' 'CN' 'MCI' 'CN' 'MCI' 'AD' 'MCI' 'MCI' 'AD' 'CN' 'CN' 'CN'\n",
            " 'MCI' 'MCI' 'MCI' 'MCI' 'CN' 'CN' 'MCI' 'MCI' 'CN' 'MCI' 'CN' 'MCI' 'MCI'\n",
            " 'CN' 'MCI' 'MCI' 'MCI' 'CN' 'CN' 'MCI' 'AD' 'MCI' 'MCI' 'CN' 'AD' 'MCI'\n",
            " 'CN' 'CN' 'MCI' 'MCI' 'MCI' 'MCI']\n",
            "\n",
            "accuracy_score on test dataset :  0.90625\n"
          ],
          "name": "stdout"
        }
      ]
    },
    {
      "cell_type": "code",
      "metadata": {
        "colab": {
          "base_uri": "https://localhost:8080/"
        },
        "id": "EIE_FjIsiayy",
        "outputId": "a767018e-85c9-41cf-ab07-cd78206504f0"
      },
      "source": [
        "from sklearn.metrics import roc_auc_score\n",
        "i=0\n",
        "roc_auc_score(np.where(y_test.apply(lambda x: mmap[x])==i,1,0), pred_prob[:,i])"
      ],
      "execution_count": 56,
      "outputs": [
        {
          "output_type": "execute_result",
          "data": {
            "text/plain": [
              "0.9464285714285713"
            ]
          },
          "metadata": {
            "tags": []
          },
          "execution_count": 56
        }
      ]
    },
    {
      "cell_type": "code",
      "metadata": {
        "colab": {
          "base_uri": "https://localhost:8080/"
        },
        "id": "lJ3865aCiayy",
        "outputId": "55dd4711-5a76-4de8-d4fe-adaa42bde36d"
      },
      "source": [
        "from sklearn.metrics import classification_report \n",
        "print(classification_report(y_test,rfc.predict(X_test)))"
      ],
      "execution_count": 101,
      "outputs": [
        {
          "output_type": "stream",
          "text": [
            "              precision    recall  f1-score   support\n",
            "\n",
            "          AD       1.00      0.75      0.86        12\n",
            "          CN       0.88      0.94      0.91        31\n",
            "         MCI       0.91      0.92      0.92        53\n",
            "\n",
            "    accuracy                           0.91        96\n",
            "   macro avg       0.93      0.87      0.89        96\n",
            "weighted avg       0.91      0.91      0.91        96\n",
            "\n"
          ],
          "name": "stdout"
        }
      ]
    },
    {
      "cell_type": "code",
      "metadata": {
        "id": "2EZwtNQwn2pM"
      },
      "source": [
        ""
      ],
      "execution_count": null,
      "outputs": []
    },
    {
      "cell_type": "code",
      "metadata": {
        "id": "8K_KI1Fa6sQC"
      },
      "source": [
        ""
      ],
      "execution_count": null,
      "outputs": []
    },
    {
      "cell_type": "code",
      "metadata": {
        "id": "kPb9PDO0iayy"
      },
      "source": [
        ""
      ],
      "execution_count": 56,
      "outputs": []
    },
    {
      "cell_type": "code",
      "metadata": {
        "colab": {
          "base_uri": "https://localhost:8080/",
          "height": 304
        },
        "id": "K3JEeFpRiayy",
        "outputId": "dc21fd8d-6a27-4a70-d3b5-ae42211e0d05"
      },
      "source": [
        "from sklearn.metrics import roc_curve\n",
        "\n",
        "\n",
        "\n",
        "pred_prob = rfc.predict_proba(X_test)\n",
        "\n",
        "# roc curve for classes\n",
        "fpr = {}\n",
        "tpr = {}\n",
        "thresh ={}\n",
        "mmap=pd.Series(np.arange(0,len(rfc.classes_)),index=rfc.classes_ ).to_dict()\n",
        "\n",
        "n_class = 3\n",
        "\n",
        "for i in range(n_class):    \n",
        "    fpr[i], tpr[i], thresh[i] = roc_curve(np.where(y_test.apply(lambda x: mmap[x])==i,1,0), pred_prob[:,i])\n",
        "    \n",
        "# plotting    \n",
        "plt.plot(fpr[0], tpr[0], linestyle='--',color='orange', label='Class CN vs Rest')\n",
        "plt.plot(fpr[1], tpr[1], linestyle='--',color='green', label='Class MCI vs Rest')\n",
        "plt.plot(fpr[2], tpr[2], linestyle='--',color='blue', label='Class AD vs Rest')\n",
        "plt.title('Multiclass ROC curve')\n",
        "plt.xlabel('False Positive Rate')\n",
        "plt.ylabel('True Positive rate')\n",
        "plt.legend(loc='best')\n",
        "plt.savefig('Multiclass ROC',dpi=300); "
      ],
      "execution_count": 57,
      "outputs": [
        {
          "output_type": "display_data",
          "data": {
            "image/png": "[encoded data removed]",
            "text/plain": [
              "<Figure size 432x288 with 1 Axes>"
            ]
          },
          "metadata": {
            "tags": []
          }
        }
      ]
    },
    {
      "cell_type": "code",
      "metadata": {
        "colab": {
          "base_uri": "https://localhost:8080/"
        },
        "id": "0vaU1f-CKpCc",
        "outputId": "0dde2f66-88be-4045-80d7-ed30aa1881e9"
      },
      "source": [
        "from sklearn.model_selection import cross_val_score\n",
        "\n",
        "from sklearn.model_selection import StratifiedKFold\n",
        "\n",
        "cv = StratifiedKFold(n_splits=4, shuffle=True, random_state=1)\n",
        "\n",
        "scores = cross_val_score(rfc, df[feat], df['Group'], scoring = 'accuracy', cv = cv)\n",
        "\n",
        "print(scores.mean())"
      ],
      "execution_count": 58,
      "outputs": [
        {
          "output_type": "stream",
          "text": [
            "0.9134798325722984\n"
          ],
          "name": "stdout"
        }
      ]
    },
    {
      "cell_type": "code",
      "metadata": {
        "colab": {
          "base_uri": "https://localhost:8080/"
        },
        "id": "PfNBQoOkw6Hi",
        "outputId": "0ead2965-033a-45b6-ba77-01229c668a96"
      },
      "source": [
        "#The following code is for Gradient Boosting\n",
        "from sklearn.ensemble import GradientBoostingClassifier\n",
        "gbc = GradientBoostingClassifier(n_estimators=100,max_depth=5)\n",
        "\n",
        "# fit the model with the training data\n",
        "gbc.fit(X_train,y_train)\n",
        "\n",
        "# predict the target on the train dataset\n",
        "gbc_predict_train = gbc.predict(X_train)\n",
        "print('\\nTarget on train data',gbc_predict_train) \n",
        "\n",
        "# Accuray Score on train dataset\n",
        "gbc_accuracy_train = accuracy_score(y_train,gbc_predict_train)\n",
        "print('\\naccuracy_score on train dataset : ', gbc_accuracy_train)\n",
        "\n",
        "# predict the target on the test dataset\n",
        "gbc_predict_test = gbc.predict(X_test)\n",
        "print('\\nTarget on test data',gbc_predict_test) \n",
        "\n",
        "# Accuracy Score on test dataset\n",
        "gbc_accuracy_test = accuracy_score(y_test,gbc_predict_test)\n",
        "print('\\naccuracy_score on test dataset : ', gbc_accuracy_test)"
      ],
      "execution_count": 59,
      "outputs": [
        {
          "output_type": "stream",
          "text": [
            "\n",
            "Target on train data ['MCI' 'AD' 'MCI' 'CN' 'MCI' 'CN' 'AD' 'MCI' 'MCI' 'CN' 'MCI' 'AD' 'MCI'\n",
            " 'CN' 'MCI' 'MCI' 'MCI' 'MCI' 'MCI' 'MCI' 'MCI' 'MCI' 'CN' 'MCI' 'MCI'\n",
            " 'MCI' 'CN' 'CN' 'CN' 'MCI' 'MCI' 'MCI' 'CN' 'CN' 'CN' 'MCI' 'AD' 'CN'\n",
            " 'MCI' 'CN' 'MCI' 'MCI' 'CN' 'CN' 'MCI' 'MCI' 'CN' 'CN' 'MCI' 'AD' 'AD'\n",
            " 'MCI' 'AD' 'MCI' 'MCI' 'MCI' 'MCI' 'CN' 'CN' 'MCI' 'CN' 'CN' 'MCI' 'AD'\n",
            " 'MCI' 'MCI' 'MCI' 'CN' 'CN' 'CN' 'CN' 'MCI' 'MCI' 'AD' 'CN' 'CN' 'MCI'\n",
            " 'MCI' 'MCI' 'MCI' 'CN' 'MCI' 'CN' 'MCI' 'MCI' 'MCI' 'MCI' 'CN' 'MCI'\n",
            " 'MCI' 'MCI' 'MCI' 'MCI' 'CN' 'MCI' 'MCI' 'CN' 'MCI' 'MCI' 'AD' 'CN' 'CN'\n",
            " 'AD' 'AD' 'MCI' 'CN' 'AD' 'CN' 'CN' 'CN' 'AD' 'CN' 'AD' 'MCI' 'MCI' 'CN'\n",
            " 'MCI' 'CN' 'MCI' 'CN' 'MCI' 'CN' 'MCI' 'MCI' 'CN' 'AD' 'MCI' 'MCI' 'MCI'\n",
            " 'MCI' 'MCI' 'CN' 'CN' 'MCI' 'MCI' 'MCI' 'MCI' 'CN' 'CN' 'AD' 'AD' 'MCI'\n",
            " 'CN' 'MCI' 'MCI' 'MCI' 'MCI' 'MCI' 'CN' 'CN' 'MCI' 'MCI' 'AD' 'MCI' 'CN'\n",
            " 'AD' 'CN' 'CN' 'AD' 'MCI' 'MCI' 'CN' 'MCI' 'CN' 'MCI' 'CN' 'MCI' 'MCI'\n",
            " 'CN' 'AD' 'CN' 'MCI' 'CN' 'MCI' 'AD' 'MCI' 'MCI' 'MCI' 'MCI' 'MCI' 'MCI'\n",
            " 'MCI' 'MCI' 'MCI' 'MCI' 'CN' 'AD' 'MCI' 'CN' 'CN' 'MCI' 'MCI' 'MCI']\n",
            "\n",
            "accuracy_score on train dataset :  0.9948186528497409\n",
            "\n",
            "Target on test data ['MCI' 'MCI' 'MCI' 'MCI' 'AD' 'CN' 'MCI' 'CN' 'CN' 'MCI' 'CN' 'MCI' 'MCI'\n",
            " 'CN' 'MCI' 'MCI' 'AD' 'CN' 'MCI' 'CN' 'CN' 'MCI' 'MCI' 'AD' 'MCI' 'CN'\n",
            " 'MCI' 'MCI' 'MCI' 'MCI' 'MCI' 'CN' 'MCI' 'MCI' 'MCI' 'CN' 'AD' 'MCI'\n",
            " 'MCI' 'MCI' 'AD' 'CN' 'MCI' 'MCI' 'CN' 'CN' 'CN' 'MCI' 'AD' 'AD' 'MCI'\n",
            " 'MCI' 'AD' 'CN' 'MCI' 'CN' 'MCI' 'AD' 'MCI' 'AD' 'AD' 'CN' 'CN' 'CN'\n",
            " 'MCI' 'MCI' 'MCI' 'MCI' 'CN' 'CN' 'MCI' 'MCI' 'CN' 'MCI' 'AD' 'MCI' 'MCI'\n",
            " 'CN' 'MCI' 'MCI' 'MCI' 'CN' 'CN' 'MCI' 'AD' 'MCI' 'MCI' 'CN' 'AD' 'MCI'\n",
            " 'CN' 'CN' 'MCI' 'MCI' 'MCI' 'MCI']\n",
            "\n",
            "accuracy_score on test dataset :  0.8958333333333334\n"
          ],
          "name": "stdout"
        }
      ]
    },
    {
      "cell_type": "code",
      "metadata": {
        "colab": {
          "base_uri": "https://localhost:8080/",
          "height": 304
        },
        "id": "ksFaQz_Pmj3r",
        "outputId": "7bc10396-0dd4-4da2-bdf4-45872bf920a9"
      },
      "source": [
        "from sklearn.metrics import roc_curve\n",
        "\n",
        "\n",
        "\n",
        "pred_prob = gbc.predict_proba(X_test)\n",
        "\n",
        "# roc curve for classes\n",
        "fpr = {}\n",
        "tpr = {}\n",
        "thresh ={}\n",
        "mmap=pd.Series(np.arange(0,len(gbc.classes_)),index=gbc.classes_ ).to_dict()\n",
        "\n",
        "n_class = 3\n",
        "\n",
        "for i in range(n_class):    \n",
        "    fpr[i], tpr[i], thresh[i] = roc_curve(np.where(y_test.apply(lambda x: mmap[x])==i,1,0), pred_prob[:,i])\n",
        "    \n",
        "# plotting    \n",
        "plt.plot(fpr[0], tpr[0], linestyle='--',color='orange', label='Class CN vs Rest')\n",
        "plt.plot(fpr[1], tpr[1], linestyle='--',color='green', label='Class MCI vs Rest')\n",
        "plt.plot(fpr[2], tpr[2], linestyle='--',color='blue', label='Class AD vs Rest')\n",
        "plt.title('Multiclass ROC curve')\n",
        "plt.xlabel('False Positive Rate')\n",
        "plt.ylabel('True Positive rate')\n",
        "plt.legend(loc='best')\n",
        "plt.savefig('Multiclass ROC',dpi=300); "
      ],
      "execution_count": 96,
      "outputs": [
        {
          "output_type": "display_data",
          "data": {
            "image/png": "[encoded data removed]",
            "text/plain": [
              "<Figure size 432x288 with 1 Axes>"
            ]
          },
          "metadata": {
            "tags": []
          }
        }
      ]
    },
    {
      "cell_type": "code",
      "metadata": {
        "colab": {
          "base_uri": "https://localhost:8080/"
        },
        "id": "fai15DaGKztE",
        "outputId": "c9a8080b-e08e-4f1c-d565-8fc95ac0a88e"
      },
      "source": [
        "from sklearn.model_selection import cross_val_score\n",
        "\n",
        "from sklearn.model_selection import StratifiedKFold\n",
        "\n",
        "cv = StratifiedKFold(n_splits=4, shuffle=True, random_state=1)\n",
        "\n",
        "scores = cross_val_score(gbc, df[feat], df['Group'], scoring = 'accuracy', cv = cv)\n",
        "\n",
        "print(scores.mean())"
      ],
      "execution_count": 60,
      "outputs": [
        {
          "output_type": "stream",
          "text": [
            "0.9065829528158296\n"
          ],
          "name": "stdout"
        }
      ]
    },
    {
      "cell_type": "code",
      "metadata": {
        "colab": {
          "base_uri": "https://localhost:8080/"
        },
        "id": "TNI-3Bcag4_e",
        "outputId": "2334b8f2-0268-4a24-d318-09761cd44aad"
      },
      "source": [
        "# multi-class classification\n",
        "from sklearn.multiclass import OneVsRestClassifier\n",
        "from sklearn.linear_model import LogisticRegression\n",
        "from sklearn.model_selection import train_test_split\n",
        "from sklearn.metrics import roc_curve\n",
        "from sklearn.metrics import roc_auc_score\n",
        "\n",
        "\n",
        "\n",
        "# fit model\n",
        "clf = OneVsRestClassifier(LogisticRegression(solver='lbfgs', max_iter=1000))\n",
        "clf.fit(X_train, y_train)\n",
        "# predict the target on the train dataset\n",
        "clf_predict_train = clf.predict(X_train)\n",
        "print('\\nTarget on train data',clf_predict_train) \n",
        "\n",
        "# Accuray Score on train dataset\n",
        "clf_accuracy_train = accuracy_score(y_train,clf_predict_train)\n",
        "print('\\naccuracy_score on train dataset : ', clf_accuracy_train)\n",
        "\n",
        "# predict the target on the test dataset\n",
        "clf_predict_test = clf.predict(X_test)\n",
        "print('\\nTarget on test data',clf_predict_test) \n",
        "\n",
        "# Accuracy Score on test dataset\n",
        "clf_accuracy_test = accuracy_score(y_test,clf_predict_test)\n",
        "print('\\naccuracy_score on test dataset : ', gbc_accuracy_test)\n"
      ],
      "execution_count": 61,
      "outputs": [
        {
          "output_type": "stream",
          "text": [
            "\n",
            "Target on train data ['MCI' 'AD' 'MCI' 'CN' 'MCI' 'CN' 'AD' 'MCI' 'MCI' 'CN' 'MCI' 'AD' 'MCI'\n",
            " 'CN' 'MCI' 'MCI' 'MCI' 'MCI' 'MCI' 'MCI' 'MCI' 'MCI' 'CN' 'MCI' 'MCI'\n",
            " 'MCI' 'CN' 'CN' 'CN' 'MCI' 'MCI' 'MCI' 'CN' 'CN' 'CN' 'MCI' 'AD' 'CN'\n",
            " 'MCI' 'CN' 'MCI' 'MCI' 'CN' 'CN' 'MCI' 'MCI' 'CN' 'CN' 'MCI' 'AD' 'AD'\n",
            " 'MCI' 'AD' 'MCI' 'MCI' 'MCI' 'MCI' 'CN' 'CN' 'MCI' 'CN' 'CN' 'MCI' 'AD'\n",
            " 'MCI' 'MCI' 'MCI' 'CN' 'CN' 'CN' 'CN' 'MCI' 'MCI' 'AD' 'CN' 'CN' 'MCI'\n",
            " 'MCI' 'MCI' 'MCI' 'CN' 'MCI' 'CN' 'MCI' 'MCI' 'MCI' 'MCI' 'CN' 'MCI'\n",
            " 'MCI' 'MCI' 'MCI' 'MCI' 'CN' 'MCI' 'MCI' 'CN' 'MCI' 'MCI' 'AD' 'CN' 'CN'\n",
            " 'AD' 'AD' 'MCI' 'CN' 'AD' 'CN' 'CN' 'CN' 'AD' 'CN' 'AD' 'MCI' 'MCI' 'CN'\n",
            " 'MCI' 'CN' 'MCI' 'MCI' 'MCI' 'CN' 'MCI' 'MCI' 'CN' 'AD' 'MCI' 'MCI' 'MCI'\n",
            " 'MCI' 'MCI' 'CN' 'CN' 'MCI' 'MCI' 'MCI' 'MCI' 'CN' 'CN' 'AD' 'AD' 'MCI'\n",
            " 'CN' 'MCI' 'MCI' 'MCI' 'MCI' 'MCI' 'CN' 'CN' 'MCI' 'MCI' 'AD' 'MCI' 'CN'\n",
            " 'AD' 'CN' 'CN' 'AD' 'MCI' 'MCI' 'CN' 'MCI' 'CN' 'MCI' 'CN' 'MCI' 'MCI'\n",
            " 'CN' 'AD' 'CN' 'MCI' 'CN' 'MCI' 'AD' 'MCI' 'MCI' 'MCI' 'MCI' 'MCI' 'MCI'\n",
            " 'MCI' 'MCI' 'MCI' 'MCI' 'CN' 'AD' 'MCI' 'CN' 'CN' 'MCI' 'MCI' 'MCI']\n",
            "\n",
            "accuracy_score on train dataset :  0.9896373056994818\n",
            "\n",
            "Target on test data ['MCI' 'MCI' 'MCI' 'MCI' 'AD' 'CN' 'MCI' 'CN' 'CN' 'MCI' 'CN' 'MCI' 'MCI'\n",
            " 'CN' 'MCI' 'MCI' 'MCI' 'CN' 'MCI' 'CN' 'CN' 'MCI' 'MCI' 'AD' 'MCI' 'CN'\n",
            " 'MCI' 'MCI' 'MCI' 'MCI' 'MCI' 'CN' 'MCI' 'MCI' 'MCI' 'CN' 'MCI' 'MCI'\n",
            " 'MCI' 'MCI' 'AD' 'CN' 'MCI' 'MCI' 'CN' 'CN' 'CN' 'MCI' 'AD' 'MCI' 'MCI'\n",
            " 'MCI' 'AD' 'CN' 'MCI' 'CN' 'MCI' 'AD' 'MCI' 'CN' 'AD' 'CN' 'CN' 'CN'\n",
            " 'MCI' 'MCI' 'MCI' 'MCI' 'CN' 'CN' 'MCI' 'MCI' 'CN' 'MCI' 'MCI' 'MCI'\n",
            " 'MCI' 'CN' 'MCI' 'MCI' 'MCI' 'CN' 'CN' 'MCI' 'CN' 'MCI' 'MCI' 'MCI' 'AD'\n",
            " 'MCI' 'CN' 'CN' 'MCI' 'MCI' 'MCI' 'MCI']\n",
            "\n",
            "accuracy_score on test dataset :  0.8958333333333334\n"
          ],
          "name": "stdout"
        }
      ]
    },
    {
      "cell_type": "code",
      "metadata": {
        "colab": {
          "base_uri": "https://localhost:8080/"
        },
        "id": "RuBWQl4qoKE5",
        "outputId": "54ebb24d-06f4-4b1a-8e5a-6b2e95480bca"
      },
      "source": [
        "from sklearn.metrics import classification_report \n",
        "print(classification_report(y_test,clf.predict(X_test)))"
      ],
      "execution_count": 98,
      "outputs": [
        {
          "output_type": "stream",
          "text": [
            "              precision    recall  f1-score   support\n",
            "\n",
            "          AD       1.00      0.67      0.80        12\n",
            "          CN       0.93      0.90      0.92        31\n",
            "         MCI       0.90      0.98      0.94        53\n",
            "\n",
            "    accuracy                           0.92        96\n",
            "   macro avg       0.94      0.85      0.88        96\n",
            "weighted avg       0.92      0.92      0.91        96\n",
            "\n"
          ],
          "name": "stdout"
        }
      ]
    },
    {
      "cell_type": "code",
      "metadata": {
        "colab": {
          "base_uri": "https://localhost:8080/"
        },
        "id": "cgJKr09JK6xt",
        "outputId": "6d68febb-7412-46f8-be12-7a49af81b97f"
      },
      "source": [
        "from sklearn.model_selection import cross_val_score\n",
        "\n",
        "from sklearn.model_selection import StratifiedKFold\n",
        "\n",
        "cv = StratifiedKFold(n_splits=4, shuffle=True, random_state=1)\n",
        "\n",
        "scores = cross_val_score(clf, df[feat], df['Group'], scoring = 'accuracy', cv = cv)\n",
        "\n",
        "print(scores.mean())"
      ],
      "execution_count": 62,
      "outputs": [
        {
          "output_type": "stream",
          "text": [
            "0.9411149162861492\n"
          ],
          "name": "stdout"
        }
      ]
    },
    {
      "cell_type": "code",
      "metadata": {
        "colab": {
          "base_uri": "https://localhost:8080/",
          "height": 338
        },
        "id": "2TxFOfSAw6ey",
        "outputId": "97331e5d-f061-4e6d-a24a-70137303a3e9"
      },
      "source": [
        "\n",
        "pred = clf.predict(X_test)\n",
        "pred_prob = clf.predict_proba(X_test)\n",
        "\n",
        "# roc curve for classes\n",
        "fpr = {}\n",
        "tpr = {}\n",
        "thresh ={}\n",
        "\n",
        "n_class = 3\n",
        "\n",
        "for i in range(n_class):    \n",
        "    fpr[i], tpr[i], thresh[i] = roc_curve(y_test, pred_prob[:,i], pos_label=i)\n",
        "    \n",
        "# plotting    \n",
        "plt.plot(fpr[0], tpr[0], linestyle='--',color='orange', label='Class CN vs Rest')\n",
        "plt.plot(fpr[1], tpr[1], linestyle='--',color='green', label='Class MCI vs Rest')\n",
        "plt.plot(fpr[2], tpr[2], linestyle='--',color='blue', label='Class AD vs Rest')\n",
        "plt.title('Multiclass ROC curve')\n",
        "plt.xlabel('False Positive Rate')\n",
        "plt.ylabel('True Positive rate')\n",
        "plt.legend(loc='best')\n",
        "plt.savefig('Multiclass ROC',dpi=300); "
      ],
      "execution_count": 63,
      "outputs": [
        {
          "output_type": "stream",
          "text": [
            "/usr/local/lib/python3.7/dist-packages/sklearn/metrics/_ranking.py:808: UndefinedMetricWarning: No positive samples in y_true, true positive value should be meaningless\n",
            "  UndefinedMetricWarning)\n"
          ],
          "name": "stderr"
        },
        {
          "output_type": "display_data",
          "data": {
            "image/png": "[encoded data removed]",
            "text/plain": [
              "<Figure size 432x288 with 1 Axes>"
            ]
          },
          "metadata": {
            "tags": []
          }
        }
      ]
    },
    {
      "cell_type": "code",
      "metadata": {
        "colab": {
          "base_uri": "https://localhost:8080/",
          "height": 531
        },
        "id": "cl_5sNEKEdWh",
        "outputId": "c497229a-4891-4feb-9b09-64f3935fcc88"
      },
      "source": [
        "#The following code is for XGBOOST \n",
        "from xgboost.sklearn import XGBClassifier\n",
        "xgb = XGBClassifier()\n",
        "\n",
        "# fit the model with the training data\n",
        "xgb.fit(X_train,y_train)\n",
        "\n",
        "\n",
        "# predict the target on the train dataset\n",
        "xgb_predict_train = xgb.predict(X_train)\n",
        "print('\\nTarget on train data',xgb_predict_train) \n",
        "\n",
        "# Accuray Score on train dataset\n",
        "xgb_accuracy_train = accuracy_score(y_train,xgb_predict_train)\n",
        "print('\\naccuracy_score on train dataset : ', xgb_accuracy_train)\n",
        "\n",
        "# predict the target on the test dataset\n",
        "xgb_predict_test = xgb.predict(X_test)\n",
        "print('\\nTarget on test data',xgb.predict_test) \n",
        "\n",
        "# Accuracy Score on test dataset\n",
        "xgb_accuracy_test = accuracy_score(y_test,xgb_predict_test)\n",
        "print('\\naccuracy_score on test dataset : ', xgb_accuracy_test)"
      ],
      "execution_count": 64,
      "outputs": [
        {
          "output_type": "stream",
          "text": [
            "\n",
            "Target on train data ['MCI' 'AD' 'MCI' 'CN' 'MCI' 'CN' 'AD' 'MCI' 'MCI' 'CN' 'MCI' 'AD' 'MCI'\n",
            " 'CN' 'MCI' 'MCI' 'MCI' 'MCI' 'MCI' 'MCI' 'MCI' 'MCI' 'CN' 'MCI' 'MCI'\n",
            " 'MCI' 'CN' 'CN' 'CN' 'MCI' 'MCI' 'MCI' 'CN' 'CN' 'CN' 'MCI' 'AD' 'CN'\n",
            " 'MCI' 'CN' 'MCI' 'MCI' 'CN' 'CN' 'MCI' 'MCI' 'CN' 'CN' 'MCI' 'AD' 'AD'\n",
            " 'MCI' 'AD' 'MCI' 'MCI' 'MCI' 'MCI' 'CN' 'CN' 'MCI' 'CN' 'CN' 'MCI' 'AD'\n",
            " 'MCI' 'MCI' 'MCI' 'CN' 'CN' 'CN' 'CN' 'MCI' 'MCI' 'AD' 'CN' 'CN' 'MCI'\n",
            " 'MCI' 'MCI' 'MCI' 'CN' 'MCI' 'CN' 'MCI' 'MCI' 'MCI' 'MCI' 'CN' 'MCI'\n",
            " 'MCI' 'MCI' 'MCI' 'MCI' 'CN' 'MCI' 'MCI' 'CN' 'MCI' 'MCI' 'AD' 'CN' 'CN'\n",
            " 'AD' 'AD' 'MCI' 'CN' 'AD' 'CN' 'CN' 'CN' 'AD' 'CN' 'AD' 'MCI' 'MCI' 'CN'\n",
            " 'MCI' 'CN' 'MCI' 'CN' 'MCI' 'CN' 'MCI' 'MCI' 'CN' 'AD' 'MCI' 'MCI' 'MCI'\n",
            " 'MCI' 'MCI' 'CN' 'CN' 'MCI' 'MCI' 'MCI' 'MCI' 'CN' 'CN' 'AD' 'AD' 'MCI'\n",
            " 'CN' 'MCI' 'MCI' 'MCI' 'MCI' 'MCI' 'CN' 'CN' 'MCI' 'MCI' 'AD' 'MCI' 'CN'\n",
            " 'AD' 'CN' 'CN' 'AD' 'MCI' 'MCI' 'CN' 'MCI' 'CN' 'MCI' 'CN' 'MCI' 'MCI'\n",
            " 'CN' 'AD' 'CN' 'MCI' 'CN' 'MCI' 'AD' 'MCI' 'MCI' 'MCI' 'MCI' 'MCI' 'MCI'\n",
            " 'MCI' 'MCI' 'MCI' 'MCI' 'CN' 'AD' 'MCI' 'CN' 'CN' 'MCI' 'MCI' 'MCI']\n",
            "\n",
            "accuracy_score on train dataset :  0.9948186528497409\n"
          ],
          "name": "stdout"
        },
        {
          "output_type": "error",
          "ename": "AttributeError",
          "evalue": "ignored",
          "traceback": [
            "\u001b[0;31m---------------------------------------------------------------------------\u001b[0m",
            "\u001b[0;31mAttributeError\u001b[0m                            Traceback (most recent call last)",
            "\u001b[0;32m<ipython-input-64-993d341fcbdf>\u001b[0m in \u001b[0;36m<module>\u001b[0;34m()\u001b[0m\n\u001b[1;32m     17\u001b[0m \u001b[0;31m# predict the target on the test dataset\u001b[0m\u001b[0;34m\u001b[0m\u001b[0;34m\u001b[0m\u001b[0;34m\u001b[0m\u001b[0m\n\u001b[1;32m     18\u001b[0m \u001b[0mxgb_predict_test\u001b[0m \u001b[0;34m=\u001b[0m \u001b[0mxgb\u001b[0m\u001b[0;34m.\u001b[0m\u001b[0mpredict\u001b[0m\u001b[0;34m(\u001b[0m\u001b[0mX_test\u001b[0m\u001b[0;34m)\u001b[0m\u001b[0;34m\u001b[0m\u001b[0;34m\u001b[0m\u001b[0m\n\u001b[0;32m---> 19\u001b[0;31m \u001b[0mprint\u001b[0m\u001b[0;34m(\u001b[0m\u001b[0;34m'\\nTarget on test data'\u001b[0m\u001b[0;34m,\u001b[0m\u001b[0mxgb\u001b[0m\u001b[0;34m.\u001b[0m\u001b[0mpredict_test\u001b[0m\u001b[0;34m)\u001b[0m\u001b[0;34m\u001b[0m\u001b[0;34m\u001b[0m\u001b[0m\n\u001b[0m\u001b[1;32m     20\u001b[0m \u001b[0;34m\u001b[0m\u001b[0m\n\u001b[1;32m     21\u001b[0m \u001b[0;31m# Accuracy Score on test dataset\u001b[0m\u001b[0;34m\u001b[0m\u001b[0;34m\u001b[0m\u001b[0;34m\u001b[0m\u001b[0m\n",
            "\u001b[0;31mAttributeError\u001b[0m: 'XGBClassifier' object has no attribute 'predict_test'"
          ]
        }
      ]
    },
    {
      "cell_type": "code",
      "metadata": {
        "colab": {
          "base_uri": "https://localhost:8080/",
          "height": 304
        },
        "id": "iIuJUHJIlGMo",
        "outputId": "5f9f70fb-c2eb-4ae7-923d-443b477a0aa5"
      },
      "source": [
        "from sklearn.metrics import roc_curve\n",
        "\n",
        "\n",
        "\n",
        "pred_prob = xgb.predict_proba(X_test)\n",
        "\n",
        "# roc curve for classes\n",
        "fpr = {}\n",
        "tpr = {}\n",
        "thresh ={}\n",
        "mmap=pd.Series(np.arange(0,len(xgb.classes_)),index=xgb.classes_ ).to_dict()\n",
        "\n",
        "n_class = 3\n",
        "\n",
        "for i in range(n_class):    \n",
        "    fpr[i], tpr[i], thresh[i] = roc_curve(np.where(y_test.apply(lambda x: mmap[x])==i,1,0), pred_prob[:,i])\n",
        "    \n",
        "# plotting    \n",
        "plt.plot(fpr[0], tpr[0], linestyle='--',color='orange', label='Class CN vs Rest')\n",
        "plt.plot(fpr[1], tpr[1], linestyle='--',color='green', label='Class MCI vs Rest')\n",
        "plt.plot(fpr[2], tpr[2], linestyle='--',color='blue', label='Class AD vs Rest')\n",
        "plt.title('Multiclass ROC curve')\n",
        "plt.xlabel('False Positive Rate')\n",
        "plt.ylabel('True Positive rate')\n",
        "plt.legend(loc='best')\n",
        "plt.savefig('Multiclass ROC',dpi=300); "
      ],
      "execution_count": 94,
      "outputs": [
        {
          "output_type": "display_data",
          "data": {
            "image/png": "[encoded data removed]",
            "text/plain": [
              "<Figure size 432x288 with 1 Axes>"
            ]
          },
          "metadata": {
            "tags": []
          }
        }
      ]
    },
    {
      "cell_type": "code",
      "metadata": {
        "colab": {
          "base_uri": "https://localhost:8080/"
        },
        "id": "WSUOv1isoeCn",
        "outputId": "307041e4-118a-4585-c88c-b1cb97a75064"
      },
      "source": [
        "from sklearn.metrics import classification_report \n",
        "print(classification_report(y_test,xgb.predict(X_test)))"
      ],
      "execution_count": 99,
      "outputs": [
        {
          "output_type": "stream",
          "text": [
            "              precision    recall  f1-score   support\n",
            "\n",
            "          AD       0.82      0.75      0.78        12\n",
            "          CN       0.97      0.94      0.95        31\n",
            "         MCI       0.91      0.94      0.93        53\n",
            "\n",
            "    accuracy                           0.92        96\n",
            "   macro avg       0.90      0.88      0.89        96\n",
            "weighted avg       0.92      0.92      0.92        96\n",
            "\n"
          ],
          "name": "stdout"
        }
      ]
    },
    {
      "cell_type": "code",
      "metadata": {
        "id": "89bZPfX2loiR"
      },
      "source": [
        ""
      ],
      "execution_count": null,
      "outputs": []
    },
    {
      "cell_type": "code",
      "metadata": {
        "id": "NlBLLtquLFE-",
        "colab": {
          "base_uri": "https://localhost:8080/"
        },
        "outputId": "088e490b-5dc3-4857-d7c4-5060f8e07fc9"
      },
      "source": [
        "from sklearn.model_selection import cross_val_score\n",
        "\n",
        "from sklearn.model_selection import StratifiedKFold\n",
        "\n",
        "cv = StratifiedKFold(n_splits=4, shuffle=True, random_state=1)\n",
        "\n",
        "scores = cross_val_score(xgb, df[feat], df['Group'], scoring = 'accuracy', cv = cv)\n",
        "\n",
        "print(scores.mean())"
      ],
      "execution_count": 66,
      "outputs": [
        {
          "output_type": "stream",
          "text": [
            "0.9238489345509894\n"
          ],
          "name": "stdout"
        }
      ]
    },
    {
      "cell_type": "code",
      "metadata": {
        "id": "z7mDbnnnzx8T"
      },
      "source": [
        "X=df[feat]"
      ],
      "execution_count": 67,
      "outputs": []
    },
    {
      "cell_type": "code",
      "metadata": {
        "colab": {
          "base_uri": "https://localhost:8080/"
        },
        "id": "qXnb29gLNYSE",
        "outputId": "7c582651-cebb-4318-ef9b-79e9a68ff51f"
      },
      "source": [
        "from sklearn.feature_selection import SelectKBest\n",
        "from sklearn.feature_selection import chi2\n",
        "# find best scored 5 features\n",
        "select_feature = SelectKBest(chi2, k=5).fit(X_train, y_train)\n",
        "print('Score list:', select_feature.scores_)\n",
        "print('Feature list:', X_train.columns)\n"
      ],
      "execution_count": 68,
      "outputs": [
        {
          "output_type": "stream",
          "text": [
            "Score list: [1.43474378e+01 3.82809015e+00 4.71016918e-03 9.20589111e-04\n",
            " 1.40026145e-02 8.45787585e-03 1.40386552e-02 1.41086393e-02\n",
            " 5.86817984e-01 6.28863896e-01 7.73127422e-01 1.59001762e+00\n",
            " 9.63165030e-02 3.77884646e-02 9.70903937e+00 8.75778396e+00\n",
            " 2.78854796e-01 1.90700512e-01 5.59760064e-01 6.00331255e-01\n",
            " 6.43482466e-01 5.84316264e-01 2.18306087e+00 1.89621834e+00\n",
            "            nan 7.09535277e-04 7.79879816e-01 2.38526751e-01\n",
            " 5.38666858e-01 5.52648581e-01 1.75030833e-02 9.99679954e-02\n",
            " 2.78573796e-02 1.98387729e-01 2.28346626e-01 1.15160922e-01\n",
            "            nan 1.37354936e-02 8.17343611e-02 1.67775873e-01\n",
            " 4.50346104e-02 6.92388918e-03 2.57580989e-01 1.82787401e-01\n",
            " 1.23075788e-02 4.73836967e-02 4.23946383e-01 7.32605713e-01\n",
            " 1.39490034e-01 3.47292535e-01 2.28585209e-01 1.92468596e-01\n",
            " 8.06802193e-02 1.11117436e+00 2.69338785e-01 1.54339733e-01\n",
            " 2.47585344e-01 2.50082948e-02 8.56894333e-01 3.72433134e-01\n",
            " 1.09410248e+00 8.79747100e-01 1.69282137e-02 1.04247016e-01\n",
            " 1.06953369e+00 2.82751676e-01 4.56304785e-01 4.58418026e-01\n",
            " 5.81007395e-01 4.83672094e-01 1.37794210e-01 3.32271707e-01\n",
            " 9.53933044e-01 1.42323082e+00 2.49250524e-01 1.44666742e-01\n",
            " 8.21272944e-02 3.12631666e-01 3.41953934e-01 4.97679041e-02\n",
            " 4.08993299e-01 1.56458589e-01 2.97013836e+00 4.45497622e-01\n",
            " 4.10692749e-01 3.23647552e-01 3.11017333e-01 1.02284442e-01\n",
            " 5.38253023e-01 5.16243167e-01 1.09893851e-01 5.06678299e-01\n",
            " 2.52017093e-01 8.74420567e-01 1.61614743e+00 1.10881726e+00\n",
            " 9.91671136e-01 1.02833543e-01 3.25378005e-01 2.89220643e-01\n",
            " 7.58617485e-01 6.47253298e-02 4.07114502e-02 4.09860897e-01\n",
            " 6.97480642e-01 2.38639485e-01 9.61247003e-01 3.15030152e-01\n",
            " 5.90706344e-01 4.96740741e-01 1.96246027e-01 1.29080139e-01\n",
            " 1.20033332e+00 4.71777552e-02 4.54032048e-01 7.07317161e-01\n",
            " 1.67684881e-02 6.06467856e-02 4.08484779e-02 8.77692855e-03\n",
            " 3.54421281e-01 1.31732358e+00 1.78172296e-01 1.23165647e-01\n",
            " 8.00489229e-02 2.90448449e-01 5.76229716e-01 5.81057933e-01\n",
            " 3.01932822e-01 3.26227464e-01 6.92203740e-01 5.62311943e-01\n",
            " 6.09856251e-01 2.69497290e-02 2.04321865e-01 3.32392371e-01\n",
            " 8.58098839e-01 8.98002039e-01 9.60903740e-01 1.00540609e+00\n",
            " 9.39029854e-02 3.44414040e-01 1.90424585e-01 4.73517529e-03\n",
            " 1.47181152e+00 1.00312196e+00 6.39465686e-02 1.28617229e-01\n",
            " 3.08749256e-02 8.29495338e-02 1.37359668e-01 2.18254554e-01\n",
            " 3.33784979e-01 1.99718864e+00 4.17977746e+00 1.03027513e+01\n",
            " 3.75111446e+00 2.42390833e+00 2.07048609e-01 3.22680970e-01\n",
            " 5.18192745e+01 4.69494198e+01 3.64531722e-01 5.38192667e-01\n",
            " 1.45115381e+00 2.65323312e+00            nan 1.01395756e-01\n",
            " 1.54510230e+02 1.11852302e+02 1.61537562e-01 1.31667466e-02\n",
            " 1.69846702e-01 1.14136361e-01 6.64718295e-01 6.77588470e-01\n",
            " 9.67589009e-01 8.07795703e-01            nan 4.78102126e-02\n",
            " 7.18178711e-01 1.01439887e+00 1.98595431e-01 1.66260847e-01\n",
            " 3.12923388e-01 3.76909979e-02 2.27120941e-01 4.26539902e-01\n",
            " 1.77520662e+00 1.91255573e+00 1.78217442e+00 9.68025453e-01\n",
            " 5.81685461e-01 1.69282784e-01 5.34104062e-02 1.03359149e+00\n",
            " 2.73001698e+00 2.92301801e-01 1.20342088e+00 1.58865757e+00\n",
            " 1.62032350e-01 5.62856973e-01 7.13358462e-01 1.57823983e+00\n",
            " 9.72975742e-01 1.89941891e-01 2.43266871e+00 2.56414643e+00\n",
            " 6.01075236e-01 6.95002213e-01 3.40021301e-01 3.38909638e-01\n",
            " 2.11590718e-01 1.23031571e+00 3.28649112e-01 1.61372396e+00\n",
            " 1.23964665e+00 2.43754251e+00 3.76270944e-01 7.47340319e-01\n",
            " 1.76125376e-01 1.99533522e-01 7.02172032e-01 5.82999223e-01\n",
            " 4.45380824e+00 2.48979384e+00 2.33571083e-01 4.27223328e-01\n",
            " 7.34821898e-01 9.79137405e-01 3.51603330e-01 1.85875496e-01\n",
            " 5.00897625e-01 9.53077946e-01 1.43866743e+00 1.72305216e+00\n",
            " 3.63006890e+00 3.71755937e+00 7.32521577e-01 5.80225597e-01\n",
            " 5.12360238e-01 1.46059229e+00 9.63473786e-01 1.82496116e+00\n",
            " 4.37322658e-01 1.82522158e-01 4.73003338e-01 4.80589691e-01\n",
            " 6.97627215e-01 5.78797209e-01 5.48236588e-02 3.82760710e-01\n",
            " 4.75401780e-01 7.69464370e-01 7.03453728e-01 5.05889743e-01\n",
            " 2.35846513e+00 1.06812302e+00 4.87111105e-01 8.32326206e-01\n",
            " 1.04377083e+00 1.28049660e+00 1.71408414e+00 1.17960540e+00\n",
            " 2.03822798e+00 9.58045415e-01 1.89091678e+00 1.86140134e+00\n",
            " 1.24091975e+00 1.50549415e-01 3.24127147e-01 2.83215794e-01\n",
            " 9.14847864e-01 1.26891107e+00 7.84898996e-01 6.12288041e-01\n",
            " 8.74824790e-01 1.30176332e+00 1.31555905e+00 1.73623160e+00\n",
            " 5.00810237e+00 3.28975805e+00 2.22773637e+00 2.14670432e+00\n",
            " 2.20673395e-01 5.99334484e-01]\n",
            "Feature list: Index(['Sex', 'Age', 'GM_l3thVen_', 'GM_r3thVen_', 'GM_l4thVen_',\n",
            "       'GM_r4thVen_', 'GM_lAcc_', 'GM_rAcc_', 'GM_lAmy_', 'GM_rAmy_',\n",
            "       ...\n",
            "       'CSF_lSupParLo_', 'CSF_rSupParLo_', 'CSF_lSupTemGy_', 'CSF_rSupTemGy_',\n",
            "       'CSF_lTemPo_', 'CSF_rTemPo_', 'CSF_lInfFroAngGy_', 'CSF_rInfFroAngGy_',\n",
            "       'CSF_lTemTraGy_', 'CSF_rTemTraGy_'],\n",
            "      dtype='object', length=286)\n"
          ],
          "name": "stdout"
        }
      ]
    },
    {
      "cell_type": "code",
      "metadata": {
        "id": "2XeU6FHR0Ji9"
      },
      "source": [
        "y=df['Group']"
      ],
      "execution_count": 69,
      "outputs": []
    },
    {
      "cell_type": "code",
      "metadata": {
        "colab": {
          "base_uri": "https://localhost:8080/"
        },
        "id": "bQz85dQfORGx",
        "outputId": "f3a465cd-c5dd-4e2c-fcc9-1583c483a5f4"
      },
      "source": [
        "print(select_feature)"
      ],
      "execution_count": 70,
      "outputs": [
        {
          "output_type": "stream",
          "text": [
            "SelectKBest(k=5, score_func=<function chi2 at 0x7fc253d3cd40>)\n"
          ],
          "name": "stdout"
        }
      ]
    },
    {
      "cell_type": "code",
      "metadata": {
        "id": "hj8O04o0PYqa"
      },
      "source": [
        "from sklearn.feature_selection import RFE\n",
        "# Create the RFE object and rank each pixel\n",
        "rfc = RandomForestClassifier()      \n",
        "rfe = RFE(estimator=rfc, n_features_to_select=5, step=1)\n",
        "rfe = rfe.fit(X_train, y_train)"
      ],
      "execution_count": 71,
      "outputs": []
    },
    {
      "cell_type": "code",
      "metadata": {
        "colab": {
          "base_uri": "https://localhost:8080/"
        },
        "id": "OBuqAgafR3VZ",
        "outputId": "b25f84d9-22b5-4398-fd10-31bad6e6fef9"
      },
      "source": [
        "print('Chosen best 5 feature by rfe:',X_train.columns[rfe.support_])"
      ],
      "execution_count": 72,
      "outputs": [
        {
          "output_type": "stream",
          "text": [
            "Chosen best 5 feature by rfe: Index(['GM_lFroPo_', 'CSF_lCau_', 'CSF_rCbeLoCbe1_5_', 'CSF_rMedOrbGy_',\n",
            "       'CSF_rTemPo_'],\n",
            "      dtype='object')\n"
          ],
          "name": "stdout"
        }
      ]
    },
    {
      "cell_type": "code",
      "metadata": {
        "colab": {
          "base_uri": "https://localhost:8080/"
        },
        "id": "M7tFeRZhRf0Z",
        "outputId": "b8958abf-13ce-4b59-d12e-cadd9a01a650"
      },
      "source": [
        "from sklearn.feature_selection import RFECV\n",
        "\n",
        "# The \"accuracy\" scoring is proportional to the number of correct classifications\n",
        "rfc = RandomForestClassifier() \n",
        "rfecv = RFECV(estimator=rfc, step=1, cv=5,scoring='accuracy')   #5-fold cross-validation\n",
        "rfecv = rfecv.fit(X_train, y_train)\n",
        "\n",
        "print('Optimal number of features :', rfecv.n_features_)\n",
        "print('Best features :', X_train.columns[rfecv.support_])"
      ],
      "execution_count": 73,
      "outputs": [
        {
          "output_type": "stream",
          "text": [
            "Optimal number of features : 5\n",
            "Best features : Index(['GM_lHip_', 'GM_lFroPo_', 'CSF_lCau_', 'CSF_rCbeLoCbe1_5_',\n",
            "       'CSF_rMedOrbGy_'],\n",
            "      dtype='object')\n"
          ],
          "name": "stdout"
        }
      ]
    },
    {
      "cell_type": "code",
      "metadata": {
        "colab": {
          "base_uri": "https://localhost:8080/",
          "height": 313
        },
        "id": "XLd293vaScn_",
        "outputId": "efd8d27e-afa4-4771-d5e5-0027c4d10b7b"
      },
      "source": [
        "# Plot number of features VS. cross-validation scores\n",
        "import matplotlib.pyplot as plt\n",
        "plt.figure()\n",
        "plt.xlabel(\"Number of features selected\")\n",
        "plt.ylabel(\"Cross validation score of number of selected features\")\n",
        "plt.plot(range(1, len(rfecv.grid_scores_) + 1), rfecv.grid_scores_)\n",
        "plt.show()"
      ],
      "execution_count": 74,
      "outputs": [
        {
          "output_type": "display_data",
          "data": {
            "image/png": "[encoded data removed]",
            "text/plain": [
              "<Figure size 432x288 with 1 Axes>"
            ]
          },
          "metadata": {
            "tags": []
          }
        }
      ]
    },
    {
      "cell_type": "code",
      "metadata": {
        "id": "JtGxDDXskuQy"
      },
      "source": [
        "#LightGBM Model"
      ],
      "execution_count": 75,
      "outputs": []
    },
    {
      "cell_type": "code",
      "metadata": {
        "id": "fjhGv4gXkuQz"
      },
      "source": [
        "from lightgbm import LGBMClassifier\n",
        "lgbc=LGBMClassifier(learning_rate=0.1,\n",
        "                   n_estimators=50,\n",
        "                   num_leaves=8)\n",
        "lgbc.fit(X_train,y_train)\n",
        "pred=lgbc.predict(X_test)"
      ],
      "execution_count": 76,
      "outputs": []
    },
    {
      "cell_type": "code",
      "metadata": {
        "colab": {
          "base_uri": "https://localhost:8080/",
          "height": 304
        },
        "id": "Z9hjvqdAmLNa",
        "outputId": "896ecb2b-30e9-472f-8410-3d6ce7b6d511"
      },
      "source": [
        "from sklearn.metrics import roc_curve\n",
        "\n",
        "\n",
        "\n",
        "pred_prob = lgbc.predict_proba(X_test)\n",
        "\n",
        "# roc curve for classes\n",
        "fpr = {}\n",
        "tpr = {}\n",
        "thresh ={}\n",
        "mmap=pd.Series(np.arange(0,len(lgbc.classes_)),index=lgbc.classes_ ).to_dict()\n",
        "\n",
        "n_class = 3\n",
        "\n",
        "for i in range(n_class):    \n",
        "    fpr[i], tpr[i], thresh[i] = roc_curve(np.where(y_test.apply(lambda x: mmap[x])==i,1,0), pred_prob[:,i])\n",
        "    \n",
        "# plotting    \n",
        "plt.plot(fpr[0], tpr[0], linestyle='--',color='orange', label='Class CN vs Rest')\n",
        "plt.plot(fpr[1], tpr[1], linestyle='--',color='green', label='Class MCI vs Rest')\n",
        "plt.plot(fpr[2], tpr[2], linestyle='--',color='blue', label='Class AD vs Rest')\n",
        "plt.title('Multiclass ROC curve')\n",
        "plt.xlabel('False Positive Rate')\n",
        "plt.ylabel('True Positive rate')\n",
        "plt.legend(loc='best')\n",
        "plt.savefig('Multiclass ROC',dpi=300); "
      ],
      "execution_count": 95,
      "outputs": [
        {
          "output_type": "display_data",
          "data": {
            "image/png": "[encoded data removed]",
            "text/plain": [
              "<Figure size 432x288 with 1 Axes>"
            ]
          },
          "metadata": {
            "tags": []
          }
        }
      ]
    },
    {
      "cell_type": "code",
      "metadata": {
        "colab": {
          "base_uri": "https://localhost:8080/"
        },
        "id": "S-HR19-qLL4M",
        "outputId": "51d0b605-c67b-4a5b-b57d-457cf493826f"
      },
      "source": [
        "from sklearn.model_selection import cross_val_score\n",
        "\n",
        "from sklearn.model_selection import StratifiedKFold\n",
        "\n",
        "cv = StratifiedKFold(n_splits=4, shuffle=True, random_state=1)\n",
        "\n",
        "scores = cross_val_score(lgbc, df[feat], df['Group'], scoring = 'accuracy', cv = cv)\n",
        "\n",
        "print(scores.mean())"
      ],
      "execution_count": 77,
      "outputs": [
        {
          "output_type": "stream",
          "text": [
            "0.934265601217656\n"
          ],
          "name": "stdout"
        }
      ]
    },
    {
      "cell_type": "code",
      "metadata": {
        "colab": {
          "base_uri": "https://localhost:8080/"
        },
        "id": "7hPxnn5bkuQz",
        "outputId": "bde989eb-99f1-4cf0-d8a0-9365697bd745"
      },
      "source": [
        "from sklearn.metrics import classification_report\n",
        "\n",
        "#Multi-class classification report\n",
        "print(classification_report(y_test, pred))"
      ],
      "execution_count": 78,
      "outputs": [
        {
          "output_type": "stream",
          "text": [
            "              precision    recall  f1-score   support\n",
            "\n",
            "          AD       0.90      0.75      0.82        12\n",
            "          CN       1.00      0.94      0.97        31\n",
            "         MCI       0.91      0.98      0.95        53\n",
            "\n",
            "    accuracy                           0.94        96\n",
            "   macro avg       0.94      0.89      0.91        96\n",
            "weighted avg       0.94      0.94      0.94        96\n",
            "\n"
          ],
          "name": "stdout"
        }
      ]
    },
    {
      "cell_type": "code",
      "metadata": {
        "colab": {
          "base_uri": "https://localhost:8080/"
        },
        "id": "Z0B6Lx5MkuQ0",
        "outputId": "7a4d22e8-6178-4ea2-f06e-04a58581419b"
      },
      "source": [
        "from sklearn.metrics import precision_score,f1_score\n",
        "sc1=np.round(precision_score(y_test,pred,average='macro'),4)\n",
        "sc2=np.round(precision_score(y_test,pred,average='micro'),4)\n",
        "f1=np.round(f1_score(y_test,pred,average='weighted'),4)\n",
        "print(f'Weighted F1-Score: {np.round(np.mean(f1),4)}, Macro precision score {np.round(np.mean(sc1),4)}, Micro precision score {np.round(np.mean(sc2),4)}\\n')"
      ],
      "execution_count": 79,
      "outputs": [
        {
          "output_type": "stream",
          "text": [
            "Weighted F1-Score: 0.9364, Macro precision score 0.9374, Micro precision score 0.9375\n",
            "\n"
          ],
          "name": "stdout"
        }
      ]
    },
    {
      "cell_type": "code",
      "metadata": {
        "colab": {
          "base_uri": "https://localhost:8080/"
        },
        "id": "kd_558hTrS6t",
        "outputId": "fd86bbea-6e24-40d7-f5ec-a852215c7e9b"
      },
      "source": [
        "pip install shap"
      ],
      "execution_count": 80,
      "outputs": [
        {
          "output_type": "stream",
          "text": [
            "Collecting shap\n",
            "\u001b[?25l  Downloading https://files.pythonhosted.org/packages/b9/f4/c5b95cddae15be80f8e58b25edceca105aa83c0b8c86a1edad24a6af80d3/shap-0.39.0.tar.gz (356kB)\n",
            "\r\u001b[K     |█                               | 10kB 16.7MB/s eta 0:00:01\r\u001b[K     |█▉                              | 20kB 20.2MB/s eta 0:00:01\r\u001b[K     |██▊                             | 30kB 10.3MB/s eta 0:00:01\r\u001b[K     |███▊                            | 40kB 8.1MB/s eta 0:00:01\r\u001b[K     |████▋                           | 51kB 5.3MB/s eta 0:00:01\r\u001b[K     |█████▌                          | 61kB 5.8MB/s eta 0:00:01\r\u001b[K     |██████▍                         | 71kB 5.9MB/s eta 0:00:01\r\u001b[K     |███████▍                        | 81kB 6.1MB/s eta 0:00:01\r\u001b[K     |████████▎                       | 92kB 6.4MB/s eta 0:00:01\r\u001b[K     |█████████▏                      | 102kB 5.1MB/s eta 0:00:01\r\u001b[K     |██████████▏                     | 112kB 5.1MB/s eta 0:00:01\r\u001b[K     |███████████                     | 122kB 5.1MB/s eta 0:00:01\r\u001b[K     |████████████                    | 133kB 5.1MB/s eta 0:00:01\r\u001b[K     |████████████▉                   | 143kB 5.1MB/s eta 0:00:01\r\u001b[K     |█████████████▉                  | 153kB 5.1MB/s eta 0:00:01\r\u001b[K     |██████████████▊                 | 163kB 5.1MB/s eta 0:00:01\r\u001b[K     |███████████████▋                | 174kB 5.1MB/s eta 0:00:01\r\u001b[K     |████████████████▋               | 184kB 5.1MB/s eta 0:00:01\r\u001b[K     |█████████████████▌              | 194kB 5.1MB/s eta 0:00:01\r\u001b[K     |██████████████████▍             | 204kB 5.1MB/s eta 0:00:01\r\u001b[K     |███████████████████▎            | 215kB 5.1MB/s eta 0:00:01\r\u001b[K     |████████████████████▎           | 225kB 5.1MB/s eta 0:00:01\r\u001b[K     |█████████████████████▏          | 235kB 5.1MB/s eta 0:00:01\r\u001b[K     |██████████████████████          | 245kB 5.1MB/s eta 0:00:01\r\u001b[K     |███████████████████████         | 256kB 5.1MB/s eta 0:00:01\r\u001b[K     |████████████████████████        | 266kB 5.1MB/s eta 0:00:01\r\u001b[K     |████████████████████████▉       | 276kB 5.1MB/s eta 0:00:01\r\u001b[K     |█████████████████████████▊      | 286kB 5.1MB/s eta 0:00:01\r\u001b[K     |██████████████████████████▊     | 296kB 5.1MB/s eta 0:00:01\r\u001b[K     |███████████████████████████▋    | 307kB 5.1MB/s eta 0:00:01\r\u001b[K     |████████████████████████████▌   | 317kB 5.1MB/s eta 0:00:01\r\u001b[K     |█████████████████████████████▍  | 327kB 5.1MB/s eta 0:00:01\r\u001b[K     |██████████████████████████████▍ | 337kB 5.1MB/s eta 0:00:01\r\u001b[K     |███████████████████████████████▎| 348kB 5.1MB/s eta 0:00:01\r\u001b[K     |████████████████████████████████| 358kB 5.1MB/s \n",
            "\u001b[?25hRequirement already satisfied: numpy in /usr/local/lib/python3.7/dist-packages (from shap) (1.19.5)\n",
            "Requirement already satisfied: scipy in /usr/local/lib/python3.7/dist-packages (from shap) (1.4.1)\n",
            "Requirement already satisfied: scikit-learn in /usr/local/lib/python3.7/dist-packages (from shap) (0.22.2.post1)\n",
            "Requirement already satisfied: pandas in /usr/local/lib/python3.7/dist-packages (from shap) (1.1.5)\n",
            "Requirement already satisfied: tqdm>4.25.0 in /usr/local/lib/python3.7/dist-packages (from shap) (4.41.1)\n",
            "Collecting slicer==0.0.7\n",
            "  Downloading https://files.pythonhosted.org/packages/78/c2/b3f55dfdb8af9812fdb9baf70cacf3b9e82e505b2bd4324d588888b81202/slicer-0.0.7-py3-none-any.whl\n",
            "Requirement already satisfied: numba in /usr/local/lib/python3.7/dist-packages (from shap) (0.51.2)\n",
            "Requirement already satisfied: cloudpickle in /usr/local/lib/python3.7/dist-packages (from shap) (1.3.0)\n",
            "Requirement already satisfied: joblib>=0.11 in /usr/local/lib/python3.7/dist-packages (from scikit-learn->shap) (1.0.1)\n",
            "Requirement already satisfied: pytz>=2017.2 in /usr/local/lib/python3.7/dist-packages (from pandas->shap) (2018.9)\n",
            "Requirement already satisfied: python-dateutil>=2.7.3 in /usr/local/lib/python3.7/dist-packages (from pandas->shap) (2.8.1)\n",
            "Requirement already satisfied: setuptools in /usr/local/lib/python3.7/dist-packages (from numba->shap) (57.0.0)\n",
            "Requirement already satisfied: llvmlite<0.35,>=0.34.0.dev0 in /usr/local/lib/python3.7/dist-packages (from numba->shap) (0.34.0)\n",
            "Requirement already satisfied: six>=1.5 in /usr/local/lib/python3.7/dist-packages (from python-dateutil>=2.7.3->pandas->shap) (1.15.0)\n",
            "Building wheels for collected packages: shap\n",
            "  Building wheel for shap (setup.py) ... \u001b[?25l\u001b[?25hdone\n",
            "  Created wheel for shap: filename=shap-0.39.0-cp37-cp37m-linux_x86_64.whl size=491614 sha256=134560dadee89af32ad50060c1143fbcbe61de68a239bd5349ab03512ba38157\n",
            "  Stored in directory: /root/.cache/pip/wheels/15/27/f5/a8ab9da52fd159aae6477b5ede6eaaec69fd130fa0fa59f283\n",
            "Successfully built shap\n",
            "Installing collected packages: slicer, shap\n",
            "Successfully installed shap-0.39.0 slicer-0.0.7\n"
          ],
          "name": "stdout"
        }
      ]
    },
    {
      "cell_type": "markdown",
      "metadata": {
        "id": "XFAPqacEkuQ1"
      },
      "source": [
        "We are getting decent performace from the model. "
      ]
    },
    {
      "cell_type": "markdown",
      "metadata": {
        "id": "PrMil-xekuQ1"
      },
      "source": [
        "# Feature Importance Overall"
      ]
    },
    {
      "cell_type": "code",
      "metadata": {
        "colab": {
          "base_uri": "https://localhost:8080/",
          "height": 581
        },
        "id": "JAyfNcpmkuQ1",
        "outputId": "f6b3e628-aba5-4b72-ef75-2eedda0f3fe4"
      },
      "source": [
        "import shap\n",
        "shap_values = shap.TreeExplainer(lgbc).shap_values(X_test)\n",
        "shap.summary_plot(shap_values, X_test, plot_type=\"bar\",class_names=list(lgbc.classes_))"
      ],
      "execution_count": 81,
      "outputs": [
        {
          "output_type": "display_data",
          "data": {
            "image/png": "[encoded data removed]",
            "text/plain": [
              "<Figure size 576x684 with 1 Axes>"
            ]
          },
          "metadata": {
            "tags": []
          }
        }
      ]
    },
    {
      "cell_type": "code",
      "metadata": {
        "id": "-LEabGU7kuQ2"
      },
      "source": [
        ""
      ],
      "execution_count": 81,
      "outputs": []
    },
    {
      "cell_type": "markdown",
      "metadata": {
        "id": "FicFVJXBkuQ2"
      },
      "source": [
        "# Feature Importnace AD"
      ]
    },
    {
      "cell_type": "markdown",
      "metadata": {
        "id": "yMkaLsiDkuQ3"
      },
      "source": [
        "These are the important features to correctly classify AD Group"
      ]
    },
    {
      "cell_type": "code",
      "metadata": {
        "colab": {
          "base_uri": "https://localhost:8080/",
          "height": 581
        },
        "id": "ik0v8NYLkuQ3",
        "outputId": "58bafccb-b19c-4590-b310-4afab0b836c6"
      },
      "source": [
        "import shap\n",
        "shap_values = shap.TreeExplainer(lgbc).shap_values(X_test)\n",
        "shap.summary_plot(shap_values[0], X_test,plot_type=\"bar\",class_names=list(lgbc.classes_)[0])"
      ],
      "execution_count": 82,
      "outputs": [
        {
          "output_type": "display_data",
          "data": {
            "image/png": "[encoded data removed]",
            "text/plain": [
              "<Figure size 576x684 with 1 Axes>"
            ]
          },
          "metadata": {
            "tags": []
          }
        }
      ]
    },
    {
      "cell_type": "markdown",
      "metadata": {
        "id": "p8v9wNCLkuQ3"
      },
      "source": [
        "### Feature Interaction with Group"
      ]
    },
    {
      "cell_type": "markdown",
      "metadata": {
        "id": "BhdDQI5-kuQ4"
      },
      "source": [
        "This Graph Signifies that patient with \"CSF rOccFusGy\" more than 1.1 are having higher chances to be in AD Group"
      ]
    },
    {
      "cell_type": "code",
      "metadata": {
        "colab": {
          "base_uri": "https://localhost:8080/",
          "height": 337
        },
        "id": "9XjRj0kWkuQ4",
        "outputId": "da90d30d-9788-44e6-c825-04aa28d02806"
      },
      "source": [
        "shap.dependence_plot(\"CSF_rOccFusGy_\", shap_values[0], X_test)"
      ],
      "execution_count": 83,
      "outputs": [
        {
          "output_type": "display_data",
          "data": {
            "image/png": "[encoded data removed]",
            "text/plain": [
              "<Figure size 540x360 with 2 Axes>"
            ]
          },
          "metadata": {
            "tags": []
          }
        }
      ]
    },
    {
      "cell_type": "markdown",
      "metadata": {
        "id": "x9yz_wfRkuQ5"
      },
      "source": [
        "This Graph Signifies that patient with \"CSF rOccPo\" less than 2.2 are having higher chances to be in AD Group"
      ]
    },
    {
      "cell_type": "code",
      "metadata": {
        "colab": {
          "base_uri": "https://localhost:8080/",
          "height": 337
        },
        "id": "HEnxKjWNkuQ5",
        "outputId": "6dfc7572-98a9-4b83-d011-0a526a4a57ee"
      },
      "source": [
        "shap.dependence_plot(\"CSF_rOccPo_\", shap_values[0], X_test)"
      ],
      "execution_count": 84,
      "outputs": [
        {
          "output_type": "display_data",
          "data": {
            "image/png": "[encoded data removed]",
            "text/plain": [
              "<Figure size 540x360 with 2 Axes>"
            ]
          },
          "metadata": {
            "tags": []
          }
        }
      ]
    },
    {
      "cell_type": "markdown",
      "metadata": {
        "id": "IjUVaudakuQ5"
      },
      "source": [
        "This Graph Signifies that patient with \"GM lMidFroGy\" less than 16 are having higher chances to be in AD Group"
      ]
    },
    {
      "cell_type": "code",
      "metadata": {
        "colab": {
          "base_uri": "https://localhost:8080/",
          "height": 337
        },
        "id": "dTgJUppMkuQ6",
        "outputId": "813b506e-b9fa-4769-bf7e-debda7c70c01"
      },
      "source": [
        "shap.dependence_plot(\"GM_lMidFroGy_\", shap_values[0], X_test)"
      ],
      "execution_count": 85,
      "outputs": [
        {
          "output_type": "display_data",
          "data": {
            "image/png": "[encoded data removed]",
            "text/plain": [
              "<Figure size 540x360 with 2 Axes>"
            ]
          },
          "metadata": {
            "tags": []
          }
        }
      ]
    },
    {
      "cell_type": "code",
      "metadata": {
        "id": "IBIxAbRFkuQ6"
      },
      "source": [
        ""
      ],
      "execution_count": 85,
      "outputs": []
    },
    {
      "cell_type": "markdown",
      "metadata": {
        "id": "iXCDo-RxkuQ6"
      },
      "source": [
        "# Feature Importnace CN"
      ]
    },
    {
      "cell_type": "code",
      "metadata": {
        "colab": {
          "base_uri": "https://localhost:8080/",
          "height": 581
        },
        "id": "5xMyWMf9kuQ7",
        "outputId": "2b1a8658-0e39-4c93-b705-8f85c85d7459"
      },
      "source": [
        "import shap\n",
        "shap_values = shap.TreeExplainer(lgbc).shap_values(X_test)\n",
        "shap.summary_plot(shap_values[1], X_test,plot_type=\"bar\",class_names=list(lgbc.classes_)[1])"
      ],
      "execution_count": 86,
      "outputs": [
        {
          "output_type": "display_data",
          "data": {
            "image/png": "[encoded data removed]",
            "text/plain": [
              "<Figure size 576x684 with 1 Axes>"
            ]
          },
          "metadata": {
            "tags": []
          }
        }
      ]
    },
    {
      "cell_type": "markdown",
      "metadata": {
        "id": "258NpfLXkuQ7"
      },
      "source": [
        "### Feature Interaction with Group"
      ]
    },
    {
      "cell_type": "markdown",
      "metadata": {
        "id": "3ZbjOcm5kuQ8"
      },
      "source": [
        "This Graph Signifies that patient with \"GM lHip\" more than 2.5 are having higher chances to be in CN Group"
      ]
    },
    {
      "cell_type": "code",
      "metadata": {
        "id": "HFaLVumqkuQ8",
        "colab": {
          "base_uri": "https://localhost:8080/",
          "height": 340
        },
        "outputId": "f7a4ea3f-1349-4493-e245-4c4b88db25e3"
      },
      "source": [
        "shap.dependence_plot(\"GM_lHip_\", shap_values[1], X_test)"
      ],
      "execution_count": 87,
      "outputs": [
        {
          "output_type": "display_data",
          "data": {
            "image/png": "[encoded data removed]",
            "text/plain": [
              "<Figure size 540x360 with 2 Axes>"
            ]
          },
          "metadata": {
            "tags": []
          }
        }
      ]
    },
    {
      "cell_type": "markdown",
      "metadata": {
        "id": "98GbPF3AkuQ8"
      },
      "source": [
        "This Graph Signifies that patient with \"GM lSupMarGy\" more than 6 are having higher chances to be in CN Group"
      ]
    },
    {
      "cell_type": "code",
      "metadata": {
        "id": "j4J1ZFQEkuQ9",
        "colab": {
          "base_uri": "https://localhost:8080/",
          "height": 337
        },
        "outputId": "806cbd16-d194-44b3-c775-493ff3a39ca2"
      },
      "source": [
        "shap.dependence_plot(\"GM_lSupMarGy_\", shap_values[1], X_test)"
      ],
      "execution_count": 88,
      "outputs": [
        {
          "output_type": "display_data",
          "data": {
            "image/png": "[encoded data removed]",
            "text/plain": [
              "<Figure size 540x360 with 2 Axes>"
            ]
          },
          "metadata": {
            "tags": []
          }
        }
      ]
    },
    {
      "cell_type": "markdown",
      "metadata": {
        "id": "yuyBzjK4kuQ9"
      },
      "source": [
        "This Graph Signifies that patient with \"GM lAntCinGy\" less than 4.4 are having higher chances to be in CN Group"
      ]
    },
    {
      "cell_type": "code",
      "metadata": {
        "id": "fOl_kRTOkuQ9",
        "colab": {
          "base_uri": "https://localhost:8080/",
          "height": 338
        },
        "outputId": "d299cbe1-1d7d-47e1-edca-6108f3088c41"
      },
      "source": [
        "shap.dependence_plot(\"GM_lAntCinGy_\", shap_values[1], X_test)"
      ],
      "execution_count": 89,
      "outputs": [
        {
          "output_type": "display_data",
          "data": {
            "image/png": "[encoded data removed]",
            "text/plain": [
              "<Figure size 540x360 with 2 Axes>"
            ]
          },
          "metadata": {
            "tags": []
          }
        }
      ]
    },
    {
      "cell_type": "markdown",
      "metadata": {
        "id": "gqOgR8QDkuQ-"
      },
      "source": [
        "# Feature Importnace MCI"
      ]
    },
    {
      "cell_type": "code",
      "metadata": {
        "id": "2t2Ptu1hkuQ-",
        "colab": {
          "base_uri": "https://localhost:8080/",
          "height": 581
        },
        "outputId": "02e5fce5-81ce-4bb8-8a83-ff4a3a1071b2"
      },
      "source": [
        "import shap\n",
        "shap_values = shap.TreeExplainer(lgbc).shap_values(X_test)\n",
        "shap.summary_plot(shap_values[2], X_test,plot_type=\"bar\",class_names=list(lgbc.classes_)[2])"
      ],
      "execution_count": 90,
      "outputs": [
        {
          "output_type": "display_data",
          "data": {
            "image/png": "[encoded data removed]",
            "text/plain": [
              "<Figure size 576x684 with 1 Axes>"
            ]
          },
          "metadata": {
            "tags": []
          }
        }
      ]
    },
    {
      "cell_type": "markdown",
      "metadata": {
        "id": "rFy9mIFMkuQ-"
      },
      "source": [
        "### Feature Interaction with Group"
      ]
    },
    {
      "cell_type": "markdown",
      "metadata": {
        "id": "wcSAvjD5kuQ_"
      },
      "source": [
        "This Graph Signifies that patient with \"Sex\" Male are having higher chances to be in MCI Group"
      ]
    },
    {
      "cell_type": "code",
      "metadata": {
        "id": "lHjK8yVjkuQ_",
        "colab": {
          "base_uri": "https://localhost:8080/",
          "height": 337
        },
        "outputId": "7ebd9302-c59f-46de-fe0e-cca8b21e404d"
      },
      "source": [
        "shap.dependence_plot(\"Sex\", shap_values[2], X_test)"
      ],
      "execution_count": 91,
      "outputs": [
        {
          "output_type": "display_data",
          "data": {
            "image/png": "[encoded data removed]",
            "text/plain": [
              "<Figure size 540x360 with 2 Axes>"
            ]
          },
          "metadata": {
            "tags": []
          }
        }
      ]
    },
    {
      "cell_type": "markdown",
      "metadata": {
        "id": "p2Ih_2VOkuQ_"
      },
      "source": [
        "This Graph Signifies that patient with \"CSF lCau\" more than 0.35 are having higher chances to be in MCI Group"
      ]
    },
    {
      "cell_type": "code",
      "metadata": {
        "id": "477KUQ7skuRA",
        "colab": {
          "base_uri": "https://localhost:8080/",
          "height": 337
        },
        "outputId": "f9dae2e6-9304-42fb-d38a-1ec6db4272d0"
      },
      "source": [
        "shap.dependence_plot(\"CSF_lCau_\", shap_values[2], X_test)"
      ],
      "execution_count": 92,
      "outputs": [
        {
          "output_type": "display_data",
          "data": {
            "image/png": "[encoded data removed]",
            "text/plain": [
              "<Figure size 540x360 with 2 Axes>"
            ]
          },
          "metadata": {
            "tags": []
          }
        }
      ]
    },
    {
      "cell_type": "markdown",
      "metadata": {
        "id": "m4AOGYWXkuRB"
      },
      "source": [
        "This Graph Signifies that patient with \"GM rCbrWM\" less than 6 are having higher chances to be in MCI Group"
      ]
    },
    {
      "cell_type": "code",
      "metadata": {
        "id": "IAhcUduAkuRB",
        "colab": {
          "base_uri": "https://localhost:8080/",
          "height": 339
        },
        "outputId": "d7bd3e24-4fee-4712-9294-8050300c4650"
      },
      "source": [
        "shap.dependence_plot(\"GM_rCbrWM_\", shap_values[2], X_test)"
      ],
      "execution_count": 93,
      "outputs": [
        {
          "output_type": "display_data",
          "data": {
            "image/png": "[encoded data removed]",
            "text/plain": [
              "<Figure size 540x360 with 2 Axes>"
            ]
          },
          "metadata": {
            "tags": []
          }
        }
      ]
    },
    {
      "cell_type": "code",
      "metadata": {
        "id": "yYENGhDRkuRD"
      },
      "source": [
        ""
      ],
      "execution_count": 93,
      "outputs": []
    }
  ]
}