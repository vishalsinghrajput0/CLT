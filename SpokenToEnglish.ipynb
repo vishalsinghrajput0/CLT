{
  "nbformat": 4,
  "nbformat_minor": 0,
  "metadata": {
    "colab": {
      "name": "SpokenToEnglish",
      "provenance": [],
      "collapsed_sections": [],
      "include_colab_link": true
    },
    "kernelspec": {
      "name": "python3",
      "display_name": "Python 3"
    },
    "accelerator": "GPU"
  },
  "cells": [
    {
      "cell_type": "markdown",
      "metadata": {
        "id": "view-in-github",
        "colab_type": "text"
      },
      "source": [
        "<a href=\"https://colab.research.google.com/github/vishalsinghrajput0/CLT/blob/main/SpokenToEnglish.ipynb\" target=\"_parent\"><img src=\"https://colab.research.google.com/assets/colab-badge.svg\" alt=\"Open In Colab\"/></a>"
      ]
    },
    {
      "cell_type": "code",
      "metadata": {
        "id": "AJlr_m0n66yX"
      },
      "source": [
        "#defining rules\n",
        "def get_rules():\n",
        "    rules = {\"Numbers\":{\n",
        "                        \"zero\": 0,\n",
        "                        \"one\" : 1,\n",
        "                        \"two\": 2,\n",
        "                        \"three\": 3,\n",
        "                        \"four\": 4,\n",
        "                        \"five\": 5,\n",
        "                        \"six\": 6,\n",
        "                        \"seven\": 7,\n",
        "                        \"eight\": 8,\n",
        "                        \"nine\": 9,\n",
        "                        \"ten\": 10,\n",
        "                        \"twenty\": 20,\n",
        "                        \"thirty\": 30,\n",
        "                        \"forty\": 40,\n",
        "                        \"fifty\": 50,\n",
        "                        \"sixty\": 60,\n",
        "                        \"seventy\": 70,\n",
        "                        \"eighty\": 80,\n",
        "                        \"ninety\": 90,\n",
        "                        \"hundred\": 100\n",
        "                        },\n",
        "            \"Tuples\": {\n",
        "                         \"single\":1,\n",
        "                         \"double\":2,\n",
        "                         \"triple\":3,\n",
        "                         \"quadruple\":4,\n",
        "                         \"quintuple\":5,\n",
        "                         \"sextuple\":6,\n",
        "                         \"septuple\":7,\n",
        "                         \"octuple\":8,\n",
        "                         \"nonuple\":9,\n",
        "                         \"decuple\":10\n",
        "                      },\n",
        "            \"General\": {\n",
        "                          \"C M\": \"CM\",\n",
        "                          \"P M\": \"PM\",\n",
        "                          \"D M\": \"DM\",\n",
        "                          \"A M\": \"AM\"\n",
        "                       }\n",
        "            }\n",
        "    return rules\n",
        "\n",
        "#checking if word has comma at front or at last or at both  if true then return front,word and last \n",
        "def check_front_last(word):\n",
        "    front=\"\"\n",
        "    last=\"\"\n",
        "    if(len(word)>1):\n",
        "        if word[-1]==',' or word[-1]=='.':\n",
        "            last=word[-1]\n",
        "            word=word[:-1]\n",
        "        if word[0]==',' or word[0]=='.':\n",
        "            front=word[0]\n",
        "            word=word[1:]\n",
        "    return front,word,last\n",
        "\n",
        "\n",
        "#class for conversion\n",
        "class SpokenToWritten:\n",
        "\n",
        "    def __init__(self):\n",
        "\n",
        "        self.rules=get_rules()\n",
        "        self.paragraph=\"\"\n",
        "        self.ouptut_para=\"\"\n",
        "\n",
        "    #getting user input\n",
        "    def get_user_input(self):\n",
        "\n",
        "        self.paragraph=input(\"\\n[IN]:Enter Your paragraph of spoken english:\\n\\t\")\n",
        "\n",
        "        if not self.paragraph:\n",
        "            raise ValueError(\"[Error]: You entered nothing.\")\n",
        "\n",
        "    #getting  user output\n",
        "    def show_output(self):\n",
        "        print(\"\\n[OUT]:The input Spoken English Paragraph: \\n\\n \\\" \"+ self.paragraph+\"\\\"\")\n",
        "        print(\"\\nConverted Written English Paragraph: \\n\\n \\\"\" +self.ouptut_para+\"\\\"\")\n",
        "\n",
        "    \n",
        "    #main conversion function of spoken to written english \n",
        "    def Convert(self):\n",
        "        #splitting paragraph into individual words\n",
        "        words_of_para=self.paragraph.split()\n",
        "\n",
        "        #accessing defines rules\n",
        "        numbers=self.rules['Numbers']\n",
        "        tuples=self.rules['Tuples']\n",
        "        general=self.rules['General']\n",
        "        i=0\n",
        "        no_of_words=len(words_of_para)\n",
        "        #loop will run for the number of words in paragraph \n",
        "        while i<no_of_words: \n",
        "            \n",
        "            front,word,last=check_front_last(words_of_para[i])\n",
        "            #Word of paragraph may of form ',dollars.' \n",
        "            if i+1!= no_of_words:\n",
        "            #when word is of the form e.g.: two \n",
        "                front_n,next_word,last_n=check_front_last(words_of_para[i+1])\n",
        "                if word.lower() in numbers.keys() and (next_word.lower()=='dollars' or next_word.lower()=='dollar'):\n",
        "                    self.ouptut_para=self.ouptut_para+\" \"+front+\"$\"+str(numbers[word.lower()])+last\n",
        "                    i=i+2\n",
        "\n",
        "                elif word.lower() in tuples.keys() and len(next_word)==1:\n",
        "                    #when word is of form Triple A\n",
        "                    self.ouptut_para=self.ouptut_para+\" \"+front_n+(next_word*tuples[word.lower()])+last_n\n",
        "                    i=i+2\n",
        "                elif (word+\" \"+next_word) in general.keys():\n",
        "                    #if word is of form P M or C M\n",
        "                    self.ouptut_para=self.ouptut_para+\" \"+front+word+next_word+last_n\n",
        "                    i=i+2\n",
        "                else:\n",
        "                    self.ouptut_para=self.ouptut_para+\" \"+words_of_para[i]\n",
        "                    i=i+1\n",
        "            else:\n",
        "                self.ouptut_para=self.ouptut_para+\" \"+words_of_para[i]\n",
        "                i=i+1\n",
        "\n",
        "\n",
        "#main function \n",
        "def convert_sp_to_wr():\n",
        "    #creating class object\n",
        "    obj_spoken=SpokenToWritten()\n",
        "    obj_spoken.get_user_input()\n",
        "    obj_spoken.Convert()\n",
        "\n",
        "\n",
        "    obj_spoken.show_output()\n"
      ],
      "execution_count": null,
      "outputs": []
    },
    {
      "cell_type": "code",
      "metadata": {
        "id": "oIn5W5--7epW",
        "outputId": "9f35d33e-d210-4c3f-c6ec-c70e80a4e54f",
        "colab": {
          "base_uri": "https://localhost:8080/"
        }
      },
      "source": [
        "convert_sp_to_wr()"
      ],
      "execution_count": null,
      "outputs": [
        {
          "output_type": "stream",
          "text": [
            "\n",
            "[IN]:Enter Your paragraph of spoken english:\n",
            "\tHi! My name is Bruce. I am a Programmer. I try to wake up before 6 A M. I always come home after 7 P M. I earn hundred \t\tdollars per day. My contact number contains double 5, quadruple 8, single 9 and triple 4. Recently, My weight got double the weight of my friend whom I call C M. \n",
            "\n",
            "[OUT]:The input Spoken English Paragraph: \n",
            "\n",
            " \" Hi! My name is Bruce. I am a Programmer. I try to wake up before 6 A M. I always come home after 7 P M. I earn hundred \t\tdollars per day. My contact number contains double 5, quadruple 8, single 9 and triple 4. Recently, My weight got double the weight of my friend whom I call C M. \"\n",
            "\n",
            "Converted Written English Paragraph: \n",
            "\n",
            " \" Hi! My name is Bruce. I am a Programmer. I try to wake up before 6 AM. I always come home after 7 PM. I earn $100 per day. My contact number contains 55, 8888, 9 and 444. Recently, My weight got double the weight of my friend whom I call CM.\"\n"
          ],
          "name": "stdout"
        }
      ]
    },
    {
      "cell_type": "code",
      "metadata": {
        "id": "wixTxwwm7XX-"
      },
      "source": [
        ""
      ],
      "execution_count": null,
      "outputs": []
    }
  ]
}